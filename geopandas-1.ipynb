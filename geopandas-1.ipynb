{
 "cells": [
  {
   "cell_type": "code",
   "execution_count": 1,
   "id": "e4b7f8bb",
   "metadata": {},
   "outputs": [
    {
     "name": "stdout",
     "output_type": "stream",
     "text": [
      "Requirement already satisfied: geopandas in ./.venv/lib/python3.13/site-packages (1.1.1)\n",
      "Requirement already satisfied: numpy>=1.24 in ./.venv/lib/python3.13/site-packages (from geopandas) (2.3.2)\n",
      "Requirement already satisfied: pyogrio>=0.7.2 in ./.venv/lib/python3.13/site-packages (from geopandas) (0.11.1)\n",
      "Requirement already satisfied: packaging in ./.venv/lib/python3.13/site-packages (from geopandas) (25.0)\n",
      "Requirement already satisfied: pandas>=2.0.0 in ./.venv/lib/python3.13/site-packages (from geopandas) (2.3.2)\n",
      "Requirement already satisfied: pyproj>=3.5.0 in ./.venv/lib/python3.13/site-packages (from geopandas) (3.7.2)\n",
      "Requirement already satisfied: shapely>=2.0.0 in ./.venv/lib/python3.13/site-packages (from geopandas) (2.1.1)\n",
      "Requirement already satisfied: python-dateutil>=2.8.2 in ./.venv/lib/python3.13/site-packages (from pandas>=2.0.0->geopandas) (2.9.0.post0)\n",
      "Requirement already satisfied: pytz>=2020.1 in ./.venv/lib/python3.13/site-packages (from pandas>=2.0.0->geopandas) (2025.2)\n",
      "Requirement already satisfied: tzdata>=2022.7 in ./.venv/lib/python3.13/site-packages (from pandas>=2.0.0->geopandas) (2025.2)\n",
      "Requirement already satisfied: certifi in ./.venv/lib/python3.13/site-packages (from pyogrio>=0.7.2->geopandas) (2025.8.3)\n",
      "Requirement already satisfied: six>=1.5 in ./.venv/lib/python3.13/site-packages (from python-dateutil>=2.8.2->pandas>=2.0.0->geopandas) (1.17.0)\n",
      "Note: you may need to restart the kernel to use updated packages.\n"
     ]
    }
   ],
   "source": [
    "pip install geopandas"
   ]
  },
  {
   "cell_type": "code",
   "execution_count": 2,
   "id": "baf4cd70",
   "metadata": {},
   "outputs": [
    {
     "data": {
      "text/plain": [
       "'2.3.2'"
      ]
     },
     "execution_count": 2,
     "metadata": {},
     "output_type": "execute_result"
    }
   ],
   "source": [
    "import pandas\n",
    "\n",
    "pandas.__version__"
   ]
  },
  {
   "cell_type": "code",
   "execution_count": 3,
   "id": "29169ca7",
   "metadata": {},
   "outputs": [
    {
     "data": {
      "text/plain": [
       "'1.1.1'"
      ]
     },
     "execution_count": 3,
     "metadata": {},
     "output_type": "execute_result"
    }
   ],
   "source": [
    "import geopandas\n",
    "\n",
    "geopandas.__version__"
   ]
  },
  {
   "cell_type": "code",
   "execution_count": 4,
   "id": "1f1448a3",
   "metadata": {},
   "outputs": [],
   "source": [
    "import pandas as pd\n",
    "import geopandas as gpd"
   ]
  },
  {
   "cell_type": "code",
   "execution_count": null,
   "id": "481a5f9d",
   "metadata": {},
   "outputs": [],
   "source": [
    "data = {\n",
    "    \"Name\": [\"New York City\", \"São Paulo\", \"Tokyo\", \"Lagos\", \"Sydney\"],\n",
    "    \"Population\": [8419600, 12325232, 13929286, 15000000, 53121631],\n",
    "    \"Latitude\": [40.7128, -23.5505, 35.6895, 6.5244, -33.86881],\n",
    "    \"Longitude\": [-74.0060, -46.6333, 139.6917, 3.3792, 151.2093]    \n",
    "}"
   ]
  },
  {
   "cell_type": "code",
   "execution_count": 8,
   "id": "359c1fb3",
   "metadata": {},
   "outputs": [
    {
     "data": {
      "text/plain": [
       "dict"
      ]
     },
     "execution_count": 8,
     "metadata": {},
     "output_type": "execute_result"
    }
   ],
   "source": [
    "type(data)"
   ]
  },
  {
   "cell_type": "code",
   "execution_count": 9,
   "id": "f05ba1f0",
   "metadata": {},
   "outputs": [
    {
     "data": {
      "text/plain": [
       "['New York City', 'São Paulo', 'Tokyo', 'Lagos', 'Sydney']"
      ]
     },
     "execution_count": 9,
     "metadata": {},
     "output_type": "execute_result"
    }
   ],
   "source": [
    "data[\"Name\"]"
   ]
  },
  {
   "cell_type": "code",
   "execution_count": 10,
   "id": "eaabe7cb",
   "metadata": {},
   "outputs": [
    {
     "data": {
      "text/plain": [
       "list"
      ]
     },
     "execution_count": 10,
     "metadata": {},
     "output_type": "execute_result"
    }
   ],
   "source": [
    "type(data[\"Name\"])"
   ]
  },
  {
   "cell_type": "code",
   "execution_count": 11,
   "id": "64cddfb7",
   "metadata": {},
   "outputs": [],
   "source": [
    "cities_df = pd.DataFrame(data)"
   ]
  },
  {
   "cell_type": "code",
   "execution_count": 12,
   "id": "92636e0d",
   "metadata": {},
   "outputs": [
    {
     "data": {
      "text/html": [
       "<div>\n",
       "<style scoped>\n",
       "    .dataframe tbody tr th:only-of-type {\n",
       "        vertical-align: middle;\n",
       "    }\n",
       "\n",
       "    .dataframe tbody tr th {\n",
       "        vertical-align: top;\n",
       "    }\n",
       "\n",
       "    .dataframe thead th {\n",
       "        text-align: right;\n",
       "    }\n",
       "</style>\n",
       "<table border=\"1\" class=\"dataframe\">\n",
       "  <thead>\n",
       "    <tr style=\"text-align: right;\">\n",
       "      <th></th>\n",
       "      <th>Name</th>\n",
       "      <th>Population</th>\n",
       "      <th>Latitude</th>\n",
       "      <th>Longitude</th>\n",
       "    </tr>\n",
       "  </thead>\n",
       "  <tbody>\n",
       "    <tr>\n",
       "      <th>0</th>\n",
       "      <td>New York City</td>\n",
       "      <td>8419600</td>\n",
       "      <td>40.71280</td>\n",
       "      <td>-74.0060</td>\n",
       "    </tr>\n",
       "    <tr>\n",
       "      <th>1</th>\n",
       "      <td>São Paulo</td>\n",
       "      <td>12325232</td>\n",
       "      <td>-23.55050</td>\n",
       "      <td>-46.6333</td>\n",
       "    </tr>\n",
       "    <tr>\n",
       "      <th>2</th>\n",
       "      <td>Tokyo</td>\n",
       "      <td>13929286</td>\n",
       "      <td>35.68950</td>\n",
       "      <td>139.6917</td>\n",
       "    </tr>\n",
       "    <tr>\n",
       "      <th>3</th>\n",
       "      <td>Lagos</td>\n",
       "      <td>15000000</td>\n",
       "      <td>6.52440</td>\n",
       "      <td>3.3792</td>\n",
       "    </tr>\n",
       "    <tr>\n",
       "      <th>4</th>\n",
       "      <td>Sydney</td>\n",
       "      <td>53121631</td>\n",
       "      <td>-33.86881</td>\n",
       "      <td>151.2093</td>\n",
       "    </tr>\n",
       "  </tbody>\n",
       "</table>\n",
       "</div>"
      ],
      "text/plain": [
       "            Name  Population  Latitude  Longitude\n",
       "0  New York City     8419600  40.71280   -74.0060\n",
       "1      São Paulo    12325232 -23.55050   -46.6333\n",
       "2          Tokyo    13929286  35.68950   139.6917\n",
       "3          Lagos    15000000   6.52440     3.3792\n",
       "4         Sydney    53121631 -33.86881   151.2093"
      ]
     },
     "execution_count": 12,
     "metadata": {},
     "output_type": "execute_result"
    }
   ],
   "source": [
    "cities_df"
   ]
  },
  {
   "cell_type": "code",
   "execution_count": 21,
   "id": "4843c14d",
   "metadata": {},
   "outputs": [
    {
     "data": {
      "text/html": [
       "<div>\n",
       "<style scoped>\n",
       "    .dataframe tbody tr th:only-of-type {\n",
       "        vertical-align: middle;\n",
       "    }\n",
       "\n",
       "    .dataframe tbody tr th {\n",
       "        vertical-align: top;\n",
       "    }\n",
       "\n",
       "    .dataframe thead th {\n",
       "        text-align: right;\n",
       "    }\n",
       "</style>\n",
       "<table border=\"1\" class=\"dataframe\">\n",
       "  <thead>\n",
       "    <tr style=\"text-align: right;\">\n",
       "      <th></th>\n",
       "      <th>Name</th>\n",
       "      <th>Population</th>\n",
       "    </tr>\n",
       "  </thead>\n",
       "  <tbody>\n",
       "    <tr>\n",
       "      <th>0</th>\n",
       "      <td>New York City</td>\n",
       "      <td>8419600</td>\n",
       "    </tr>\n",
       "    <tr>\n",
       "      <th>1</th>\n",
       "      <td>São Paulo</td>\n",
       "      <td>12325232</td>\n",
       "    </tr>\n",
       "    <tr>\n",
       "      <th>2</th>\n",
       "      <td>Tokyo</td>\n",
       "      <td>13929286</td>\n",
       "    </tr>\n",
       "    <tr>\n",
       "      <th>3</th>\n",
       "      <td>Lagos</td>\n",
       "      <td>15000000</td>\n",
       "    </tr>\n",
       "    <tr>\n",
       "      <th>4</th>\n",
       "      <td>Sydney</td>\n",
       "      <td>53121631</td>\n",
       "    </tr>\n",
       "  </tbody>\n",
       "</table>\n",
       "</div>"
      ],
      "text/plain": [
       "            Name  Population\n",
       "0  New York City     8419600\n",
       "1      São Paulo    12325232\n",
       "2          Tokyo    13929286\n",
       "3          Lagos    15000000\n",
       "4         Sydney    53121631"
      ]
     },
     "execution_count": 21,
     "metadata": {},
     "output_type": "execute_result"
    }
   ],
   "source": [
    "cities_df[['Name', 'Population']]\n",
    "\n",
    "# cities_df['Name']"
   ]
  },
  {
   "cell_type": "code",
   "execution_count": 17,
   "id": "3e7b9b36",
   "metadata": {},
   "outputs": [
    {
     "data": {
      "text/plain": [
       "pandas.core.frame.DataFrame"
      ]
     },
     "execution_count": 17,
     "metadata": {},
     "output_type": "execute_result"
    }
   ],
   "source": [
    "type(cities_df)"
   ]
  },
  {
   "cell_type": "code",
   "execution_count": 22,
   "id": "fc48680b",
   "metadata": {},
   "outputs": [],
   "source": [
    "gdf = gpd.GeoDataFrame(\n",
    "    cities_df,\n",
    "    geometry=gpd.points_from_xy(\n",
    "        cities_df['Longitude'],\n",
    "        cities_df['Latitude']\n",
    "    )\n",
    ")"
   ]
  },
  {
   "cell_type": "code",
   "execution_count": 23,
   "id": "15e78355",
   "metadata": {},
   "outputs": [
    {
     "data": {
      "text/html": [
       "<div>\n",
       "<style scoped>\n",
       "    .dataframe tbody tr th:only-of-type {\n",
       "        vertical-align: middle;\n",
       "    }\n",
       "\n",
       "    .dataframe tbody tr th {\n",
       "        vertical-align: top;\n",
       "    }\n",
       "\n",
       "    .dataframe thead th {\n",
       "        text-align: right;\n",
       "    }\n",
       "</style>\n",
       "<table border=\"1\" class=\"dataframe\">\n",
       "  <thead>\n",
       "    <tr style=\"text-align: right;\">\n",
       "      <th></th>\n",
       "      <th>Name</th>\n",
       "      <th>Population</th>\n",
       "      <th>Latitude</th>\n",
       "      <th>Longitude</th>\n",
       "      <th>geometry</th>\n",
       "    </tr>\n",
       "  </thead>\n",
       "  <tbody>\n",
       "    <tr>\n",
       "      <th>0</th>\n",
       "      <td>New York City</td>\n",
       "      <td>8419600</td>\n",
       "      <td>40.71280</td>\n",
       "      <td>-74.0060</td>\n",
       "      <td>POINT (-74.006 40.7128)</td>\n",
       "    </tr>\n",
       "    <tr>\n",
       "      <th>1</th>\n",
       "      <td>São Paulo</td>\n",
       "      <td>12325232</td>\n",
       "      <td>-23.55050</td>\n",
       "      <td>-46.6333</td>\n",
       "      <td>POINT (-46.6333 -23.5505)</td>\n",
       "    </tr>\n",
       "    <tr>\n",
       "      <th>2</th>\n",
       "      <td>Tokyo</td>\n",
       "      <td>13929286</td>\n",
       "      <td>35.68950</td>\n",
       "      <td>139.6917</td>\n",
       "      <td>POINT (139.6917 35.6895)</td>\n",
       "    </tr>\n",
       "    <tr>\n",
       "      <th>3</th>\n",
       "      <td>Lagos</td>\n",
       "      <td>15000000</td>\n",
       "      <td>6.52440</td>\n",
       "      <td>3.3792</td>\n",
       "      <td>POINT (3.3792 6.5244)</td>\n",
       "    </tr>\n",
       "    <tr>\n",
       "      <th>4</th>\n",
       "      <td>Sydney</td>\n",
       "      <td>53121631</td>\n",
       "      <td>-33.86881</td>\n",
       "      <td>151.2093</td>\n",
       "      <td>POINT (151.2093 -33.86881)</td>\n",
       "    </tr>\n",
       "  </tbody>\n",
       "</table>\n",
       "</div>"
      ],
      "text/plain": [
       "            Name  Population  Latitude  Longitude                    geometry\n",
       "0  New York City     8419600  40.71280   -74.0060     POINT (-74.006 40.7128)\n",
       "1      São Paulo    12325232 -23.55050   -46.6333   POINT (-46.6333 -23.5505)\n",
       "2          Tokyo    13929286  35.68950   139.6917    POINT (139.6917 35.6895)\n",
       "3          Lagos    15000000   6.52440     3.3792       POINT (3.3792 6.5244)\n",
       "4         Sydney    53121631 -33.86881   151.2093  POINT (151.2093 -33.86881)"
      ]
     },
     "execution_count": 23,
     "metadata": {},
     "output_type": "execute_result"
    }
   ],
   "source": [
    "gdf"
   ]
  },
  {
   "cell_type": "code",
   "execution_count": 24,
   "id": "e99bb0a2",
   "metadata": {},
   "outputs": [
    {
     "name": "stdout",
     "output_type": "stream",
     "text": [
      "<class 'geopandas.geodataframe.GeoDataFrame'>\n",
      "RangeIndex: 5 entries, 0 to 4\n",
      "Data columns (total 5 columns):\n",
      " #   Column      Non-Null Count  Dtype   \n",
      "---  ------      --------------  -----   \n",
      " 0   Name        5 non-null      object  \n",
      " 1   Population  5 non-null      int64   \n",
      " 2   Latitude    5 non-null      float64 \n",
      " 3   Longitude   5 non-null      float64 \n",
      " 4   geometry    5 non-null      geometry\n",
      "dtypes: float64(2), geometry(1), int64(1), object(1)\n",
      "memory usage: 332.0+ bytes\n"
     ]
    }
   ],
   "source": [
    "gdf.info()"
   ]
  },
  {
   "cell_type": "code",
   "execution_count": 25,
   "id": "b9ed98de",
   "metadata": {},
   "outputs": [
    {
     "data": {
      "text/plain": [
       "0       POINT (-74.006 40.7128)\n",
       "1     POINT (-46.6333 -23.5505)\n",
       "2      POINT (139.6917 35.6895)\n",
       "3         POINT (3.3792 6.5244)\n",
       "4    POINT (151.2093 -33.86881)\n",
       "Name: geometry, dtype: geometry"
      ]
     },
     "execution_count": 25,
     "metadata": {},
     "output_type": "execute_result"
    }
   ],
   "source": [
    "gdf['geometry']"
   ]
  },
  {
   "cell_type": "code",
   "execution_count": 26,
   "id": "5aff41c6",
   "metadata": {},
   "outputs": [
    {
     "data": {
      "text/plain": [
       "0       POINT (-74.006 40.7128)\n",
       "1     POINT (-46.6333 -23.5505)\n",
       "2      POINT (139.6917 35.6895)\n",
       "3         POINT (3.3792 6.5244)\n",
       "4    POINT (151.2093 -33.86881)\n",
       "Name: geometry, dtype: geometry"
      ]
     },
     "execution_count": 26,
     "metadata": {},
     "output_type": "execute_result"
    }
   ],
   "source": [
    "gdf.geometry"
   ]
  },
  {
   "cell_type": "code",
   "execution_count": 27,
   "id": "2b8e96fa",
   "metadata": {},
   "outputs": [
    {
     "data": {
      "text/plain": [
       "geopandas.geoseries.GeoSeries"
      ]
     },
     "execution_count": 27,
     "metadata": {},
     "output_type": "execute_result"
    }
   ],
   "source": [
    "type(gdf.geometry)"
   ]
  },
  {
   "cell_type": "code",
   "execution_count": 28,
   "id": "dfef4aa7",
   "metadata": {},
   "outputs": [
    {
     "data": {
      "image/svg+xml": [
       "<svg xmlns=\"http://www.w3.org/2000/svg\" xmlns:xlink=\"http://www.w3.org/1999/xlink\" width=\"100.0\" height=\"100.0\" viewBox=\"-75.006 39.7128 2.0 2.0\" preserveAspectRatio=\"xMinYMin meet\"><g transform=\"matrix(1,0,0,-1,0,81.4256)\"><circle cx=\"-74.006\" cy=\"40.7128\" r=\"0.06\" stroke=\"#555555\" stroke-width=\"0.02\" fill=\"#66cc99\" opacity=\"0.6\" /></g></svg>"
      ],
      "text/plain": [
       "<POINT (-74.006 40.713)>"
      ]
     },
     "execution_count": 28,
     "metadata": {},
     "output_type": "execute_result"
    }
   ],
   "source": [
    "gdf['geometry'][0]"
   ]
  },
  {
   "cell_type": "code",
   "execution_count": 29,
   "id": "2de461a2",
   "metadata": {},
   "outputs": [
    {
     "data": {
      "text/plain": [
       "shapely.geometry.point.Point"
      ]
     },
     "execution_count": 29,
     "metadata": {},
     "output_type": "execute_result"
    }
   ],
   "source": [
    "type(gdf['geometry'][0])"
   ]
  },
  {
   "cell_type": "code",
   "execution_count": 30,
   "id": "f935a9a5",
   "metadata": {},
   "outputs": [],
   "source": [
    "import shapely"
   ]
  },
  {
   "cell_type": "markdown",
   "id": "7170c04b",
   "metadata": {},
   "source": [
    "## Polygons"
   ]
  },
  {
   "cell_type": "code",
   "execution_count": 31,
   "id": "ddb2c130",
   "metadata": {},
   "outputs": [],
   "source": [
    "wisconsin = 'POLYGON((-90.6303 42.5116,-87.0241 42.4954,-87.1477 43.3721,-87.1230 43.6838,-86.9911 44.1694, -86.8579 44.4828))'"
   ]
  },
  {
   "cell_type": "code",
   "execution_count": 32,
   "id": "6775e63d",
   "metadata": {},
   "outputs": [],
   "source": [
    "data = {\n",
    "    \"Name\" : [\"Wisconsin\"],\n",
    "    \"Population\": [5911000],\n",
    "    \"geometry\": [wisconsin]\n",
    "}"
   ]
  },
  {
   "cell_type": "code",
   "execution_count": 33,
   "id": "0b18d5c0",
   "metadata": {},
   "outputs": [],
   "source": [
    "gdf = gpd.GeoDataFrame(data)"
   ]
  },
  {
   "cell_type": "code",
   "execution_count": 34,
   "id": "26587d7b",
   "metadata": {},
   "outputs": [
    {
     "data": {
      "text/html": [
       "<div>\n",
       "<style scoped>\n",
       "    .dataframe tbody tr th:only-of-type {\n",
       "        vertical-align: middle;\n",
       "    }\n",
       "\n",
       "    .dataframe tbody tr th {\n",
       "        vertical-align: top;\n",
       "    }\n",
       "\n",
       "    .dataframe thead th {\n",
       "        text-align: right;\n",
       "    }\n",
       "</style>\n",
       "<table border=\"1\" class=\"dataframe\">\n",
       "  <thead>\n",
       "    <tr style=\"text-align: right;\">\n",
       "      <th></th>\n",
       "      <th>Name</th>\n",
       "      <th>Population</th>\n",
       "      <th>geometry</th>\n",
       "    </tr>\n",
       "  </thead>\n",
       "  <tbody>\n",
       "    <tr>\n",
       "      <th>0</th>\n",
       "      <td>Wisconsin</td>\n",
       "      <td>5911000</td>\n",
       "      <td>POLYGON((-90.6303 42.5116,-87.0241 42.4954,-87...</td>\n",
       "    </tr>\n",
       "  </tbody>\n",
       "</table>\n",
       "</div>"
      ],
      "text/plain": [
       "        Name  Population                                           geometry\n",
       "0  Wisconsin     5911000  POLYGON((-90.6303 42.5116,-87.0241 42.4954,-87..."
      ]
     },
     "execution_count": 34,
     "metadata": {},
     "output_type": "execute_result"
    }
   ],
   "source": [
    "gdf.head()"
   ]
  },
  {
   "cell_type": "code",
   "execution_count": 36,
   "id": "07d5a2aa",
   "metadata": {},
   "outputs": [
    {
     "data": {
      "text/plain": [
       "'POLYGON((-90.6303 42.5116,-87.0241 42.4954,-87.1477 43.3721,-87.1230 43.6838,-86.9911 44.1694, -86.8579 44.4828))'"
      ]
     },
     "execution_count": 36,
     "metadata": {},
     "output_type": "execute_result"
    }
   ],
   "source": [
    "gdf['geometry'][0]"
   ]
  },
  {
   "cell_type": "code",
   "execution_count": 38,
   "id": "1c807b27",
   "metadata": {},
   "outputs": [
    {
     "ename": "GEOSException",
     "evalue": "IllegalArgumentException: Points of LinearRing do not form a closed linestring",
     "output_type": "error",
     "traceback": [
      "\u001b[31m---------------------------------------------------------------------------\u001b[39m",
      "\u001b[31mGEOSException\u001b[39m                             Traceback (most recent call last)",
      "\u001b[36mCell\u001b[39m\u001b[36m \u001b[39m\u001b[32mIn[38]\u001b[39m\u001b[32m, line 3\u001b[39m\n\u001b[32m      1\u001b[39m gdf = gpd.GeoDataFrame(\n\u001b[32m      2\u001b[39m     data,\n\u001b[32m----> \u001b[39m\u001b[32m3\u001b[39m     geometry=\u001b[43mgpd\u001b[49m\u001b[43m.\u001b[49m\u001b[43mGeoSeries\u001b[49m\u001b[43m.\u001b[49m\u001b[43mfrom_wkt\u001b[49m\u001b[43m(\u001b[49m\u001b[43mdata\u001b[49m\u001b[43m[\u001b[49m\u001b[33;43m'\u001b[39;49m\u001b[33;43mgeometry\u001b[39;49m\u001b[33;43m'\u001b[39;49m\u001b[43m]\u001b[49m\u001b[43m)\u001b[49m\n\u001b[32m      4\u001b[39m )\n",
      "\u001b[36mFile \u001b[39m\u001b[32m~/DevOh/project/private/project/space/workspace/geopandas/.venv/lib/python3.13/site-packages/geopandas/geoseries.py:533\u001b[39m, in \u001b[36mGeoSeries.from_wkt\u001b[39m\u001b[34m(cls, data, index, crs, on_invalid, **kwargs)\u001b[39m\n\u001b[32m    479\u001b[39m \u001b[38;5;129m@classmethod\u001b[39m\n\u001b[32m    480\u001b[39m \u001b[38;5;28;01mdef\u001b[39;00m\u001b[38;5;250m \u001b[39m\u001b[34mfrom_wkt\u001b[39m(\n\u001b[32m    481\u001b[39m     \u001b[38;5;28mcls\u001b[39m, data, index=\u001b[38;5;28;01mNone\u001b[39;00m, crs: Any | \u001b[38;5;28;01mNone\u001b[39;00m = \u001b[38;5;28;01mNone\u001b[39;00m, on_invalid=\u001b[33m\"\u001b[39m\u001b[33mraise\u001b[39m\u001b[33m\"\u001b[39m, **kwargs\n\u001b[32m    482\u001b[39m ) -> GeoSeries:\n\u001b[32m    483\u001b[39m \u001b[38;5;250m    \u001b[39m\u001b[33;03m\"\"\"Alternate constructor to create a ``GeoSeries``\u001b[39;00m\n\u001b[32m    484\u001b[39m \u001b[33;03m    from a list or array of WKT objects.\u001b[39;00m\n\u001b[32m    485\u001b[39m \n\u001b[32m   (...)\u001b[39m\u001b[32m    531\u001b[39m \u001b[33;03m    dtype: geometry\u001b[39;00m\n\u001b[32m    532\u001b[39m \u001b[33;03m    \"\"\"\u001b[39;00m\n\u001b[32m--> \u001b[39m\u001b[32m533\u001b[39m     \u001b[38;5;28;01mreturn\u001b[39;00m \u001b[38;5;28;43mcls\u001b[39;49m\u001b[43m.\u001b[49m\u001b[43m_from_wkb_or_wkt\u001b[49m\u001b[43m(\u001b[49m\n\u001b[32m    534\u001b[39m \u001b[43m        \u001b[49m\u001b[43mfrom_wkt\u001b[49m\u001b[43m,\u001b[49m\u001b[43m \u001b[49m\u001b[43mdata\u001b[49m\u001b[43m,\u001b[49m\u001b[43m \u001b[49m\u001b[43mindex\u001b[49m\u001b[43m=\u001b[49m\u001b[43mindex\u001b[49m\u001b[43m,\u001b[49m\u001b[43m \u001b[49m\u001b[43mcrs\u001b[49m\u001b[43m=\u001b[49m\u001b[43mcrs\u001b[49m\u001b[43m,\u001b[49m\u001b[43m \u001b[49m\u001b[43mon_invalid\u001b[49m\u001b[43m=\u001b[49m\u001b[43mon_invalid\u001b[49m\u001b[43m,\u001b[49m\u001b[43m \u001b[49m\u001b[43m*\u001b[49m\u001b[43m*\u001b[49m\u001b[43mkwargs\u001b[49m\n\u001b[32m    535\u001b[39m \u001b[43m    \u001b[49m\u001b[43m)\u001b[49m\n",
      "\u001b[36mFile \u001b[39m\u001b[32m~/DevOh/project/private/project/space/workspace/geopandas/.venv/lib/python3.13/site-packages/geopandas/geoseries.py:608\u001b[39m, in \u001b[36mGeoSeries._from_wkb_or_wkt\u001b[39m\u001b[34m(cls, from_wkb_or_wkt_function, data, index, crs, on_invalid, **kwargs)\u001b[39m\n\u001b[32m    605\u001b[39m         index = data.index\n\u001b[32m    606\u001b[39m     data = data.values\n\u001b[32m    607\u001b[39m \u001b[38;5;28;01mreturn\u001b[39;00m \u001b[38;5;28mcls\u001b[39m(\n\u001b[32m--> \u001b[39m\u001b[32m608\u001b[39m     \u001b[43mfrom_wkb_or_wkt_function\u001b[49m\u001b[43m(\u001b[49m\u001b[43mdata\u001b[49m\u001b[43m,\u001b[49m\u001b[43m \u001b[49m\u001b[43mcrs\u001b[49m\u001b[43m=\u001b[49m\u001b[43mcrs\u001b[49m\u001b[43m,\u001b[49m\u001b[43m \u001b[49m\u001b[43mon_invalid\u001b[49m\u001b[43m=\u001b[49m\u001b[43mon_invalid\u001b[49m\u001b[43m)\u001b[49m,\n\u001b[32m    609\u001b[39m     index=index,\n\u001b[32m    610\u001b[39m     **kwargs,\n\u001b[32m    611\u001b[39m )\n",
      "\u001b[36mFile \u001b[39m\u001b[32m~/DevOh/project/private/project/space/workspace/geopandas/.venv/lib/python3.13/site-packages/geopandas/array.py:254\u001b[39m, in \u001b[36mfrom_wkt\u001b[39m\u001b[34m(data, crs, on_invalid)\u001b[39m\n\u001b[32m    232\u001b[39m \u001b[38;5;28;01mdef\u001b[39;00m\u001b[38;5;250m \u001b[39m\u001b[34mfrom_wkt\u001b[39m(data, crs=\u001b[38;5;28;01mNone\u001b[39;00m, on_invalid=\u001b[33m\"\u001b[39m\u001b[33mraise\u001b[39m\u001b[33m\"\u001b[39m):\n\u001b[32m    233\u001b[39m \u001b[38;5;250m    \u001b[39m\u001b[33;03m\"\"\"\u001b[39;00m\n\u001b[32m    234\u001b[39m \u001b[33;03m    Convert a list or array of WKT objects to a GeometryArray.\u001b[39;00m\n\u001b[32m    235\u001b[39m \n\u001b[32m   (...)\u001b[39m\u001b[32m    252\u001b[39m \n\u001b[32m    253\u001b[39m \u001b[33;03m    \"\"\"\u001b[39;00m\n\u001b[32m--> \u001b[39m\u001b[32m254\u001b[39m     \u001b[38;5;28;01mreturn\u001b[39;00m GeometryArray(\u001b[43mshapely\u001b[49m\u001b[43m.\u001b[49m\u001b[43mfrom_wkt\u001b[49m\u001b[43m(\u001b[49m\u001b[43mdata\u001b[49m\u001b[43m,\u001b[49m\u001b[43m \u001b[49m\u001b[43mon_invalid\u001b[49m\u001b[43m=\u001b[49m\u001b[43mon_invalid\u001b[49m\u001b[43m)\u001b[49m, crs=crs)\n",
      "\u001b[36mFile \u001b[39m\u001b[32m~/DevOh/project/private/project/space/workspace/geopandas/.venv/lib/python3.13/site-packages/shapely/io.py:305\u001b[39m, in \u001b[36mfrom_wkt\u001b[39m\u001b[34m(geometry, on_invalid, **kwargs)\u001b[39m\n\u001b[32m    301\u001b[39m     \u001b[38;5;28;01mraise\u001b[39;00m \u001b[38;5;167;01mTypeError\u001b[39;00m(\u001b[33m\"\u001b[39m\u001b[33mon_invalid only accepts scalar values\u001b[39m\u001b[33m\"\u001b[39m)\n\u001b[32m    303\u001b[39m invalid_handler = np.uint8(DecodingErrorOptions.get_value(on_invalid))\n\u001b[32m--> \u001b[39m\u001b[32m305\u001b[39m \u001b[38;5;28;01mreturn\u001b[39;00m \u001b[43mlib\u001b[49m\u001b[43m.\u001b[49m\u001b[43mfrom_wkt\u001b[49m\u001b[43m(\u001b[49m\u001b[43mgeometry\u001b[49m\u001b[43m,\u001b[49m\u001b[43m \u001b[49m\u001b[43minvalid_handler\u001b[49m\u001b[43m,\u001b[49m\u001b[43m \u001b[49m\u001b[43m*\u001b[49m\u001b[43m*\u001b[49m\u001b[43mkwargs\u001b[49m\u001b[43m)\u001b[49m\n",
      "\u001b[31mGEOSException\u001b[39m: IllegalArgumentException: Points of LinearRing do not form a closed linestring"
     ]
    }
   ],
   "source": [
    "gdf = gpd.GeoDataFrame(\n",
    "    data,\n",
    "    geometry=gpd.GeoSeries.from_wkt(data['geometry'])\n",
    ")"
   ]
  },
  {
   "cell_type": "code",
   "execution_count": null,
   "id": "ae8de8ed",
   "metadata": {},
   "outputs": [],
   "source": []
  }
 ],
 "metadata": {
  "kernelspec": {
   "display_name": ".venv",
   "language": "python",
   "name": "python3"
  },
  "language_info": {
   "codemirror_mode": {
    "name": "ipython",
    "version": 3
   },
   "file_extension": ".py",
   "mimetype": "text/x-python",
   "name": "python",
   "nbconvert_exporter": "python",
   "pygments_lexer": "ipython3",
   "version": "3.13.5"
  }
 },
 "nbformat": 4,
 "nbformat_minor": 5
}
