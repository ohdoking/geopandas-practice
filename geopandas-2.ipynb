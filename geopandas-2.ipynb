{
 "cells": [
  {
   "cell_type": "code",
   "execution_count": 2,
   "id": "35df3945",
   "metadata": {},
   "outputs": [],
   "source": [
    "import pandas as pd\n",
    "import geopandas as gpd\n"
   ]
  },
  {
   "cell_type": "code",
   "execution_count": 3,
   "id": "b7d6b778",
   "metadata": {},
   "outputs": [],
   "source": [
    "data = {\n",
    "    \"Name\": [\"New York City\", \"São Paulo\", \"Tokyo\", \"Lagos\", \"Sydney\"],\n",
    "    \"Population\": [8419600, 12325232, 13929286, 15000000, 53121631],\n",
    "    \"Latitude\": [40.7128, -23.5505, 35.6895, 6.5244, -33.86881],\n",
    "    \"Longitude\": [-74.0060, -46.6333, 139.6917, 3.3792, 151.2093]    \n",
    "}"
   ]
  },
  {
   "cell_type": "code",
   "execution_count": 4,
   "id": "97820fa2",
   "metadata": {},
   "outputs": [],
   "source": [
    "cities_df = pd.DataFrame(data)"
   ]
  },
  {
   "cell_type": "code",
   "execution_count": 5,
   "id": "21cef49f",
   "metadata": {},
   "outputs": [],
   "source": [
    "gdf = gpd.GeoDataFrame(\n",
    "    cities_df,\n",
    "    geometry=gpd.points_from_xy(\n",
    "        cities_df['Longitude'],\n",
    "        cities_df['Latitude']\n",
    "    )\n",
    ")"
   ]
  },
  {
   "cell_type": "code",
   "execution_count": 6,
   "id": "66c1ed3c",
   "metadata": {},
   "outputs": [
    {
     "name": "stdout",
     "output_type": "stream",
     "text": [
      "Requirement already satisfied: folium>=0.12 in ./.venv/lib/python3.13/site-packages (0.20.0)\n",
      "Requirement already satisfied: matplotlib in ./.venv/lib/python3.13/site-packages (3.10.6)\n",
      "Requirement already satisfied: mapclassify in ./.venv/lib/python3.13/site-packages (2.10.0)\n",
      "Requirement already satisfied: branca>=0.6.0 in ./.venv/lib/python3.13/site-packages (from folium>=0.12) (0.8.1)\n",
      "Requirement already satisfied: jinja2>=2.9 in ./.venv/lib/python3.13/site-packages (from folium>=0.12) (3.1.6)\n",
      "Requirement already satisfied: numpy in ./.venv/lib/python3.13/site-packages (from folium>=0.12) (2.3.2)\n",
      "Requirement already satisfied: requests in ./.venv/lib/python3.13/site-packages (from folium>=0.12) (2.32.5)\n",
      "Requirement already satisfied: xyzservices in ./.venv/lib/python3.13/site-packages (from folium>=0.12) (2025.4.0)\n",
      "Requirement already satisfied: contourpy>=1.0.1 in ./.venv/lib/python3.13/site-packages (from matplotlib) (1.3.3)\n",
      "Requirement already satisfied: cycler>=0.10 in ./.venv/lib/python3.13/site-packages (from matplotlib) (0.12.1)\n",
      "Requirement already satisfied: fonttools>=4.22.0 in ./.venv/lib/python3.13/site-packages (from matplotlib) (4.59.2)\n",
      "Requirement already satisfied: kiwisolver>=1.3.1 in ./.venv/lib/python3.13/site-packages (from matplotlib) (1.4.9)\n",
      "Requirement already satisfied: packaging>=20.0 in ./.venv/lib/python3.13/site-packages (from matplotlib) (25.0)\n",
      "Requirement already satisfied: pillow>=8 in ./.venv/lib/python3.13/site-packages (from matplotlib) (11.3.0)\n",
      "Requirement already satisfied: pyparsing>=2.3.1 in ./.venv/lib/python3.13/site-packages (from matplotlib) (3.2.3)\n",
      "Requirement already satisfied: python-dateutil>=2.7 in ./.venv/lib/python3.13/site-packages (from matplotlib) (2.9.0.post0)\n",
      "Requirement already satisfied: networkx>=3.2 in ./.venv/lib/python3.13/site-packages (from mapclassify) (3.5)\n",
      "Requirement already satisfied: pandas>=2.1 in ./.venv/lib/python3.13/site-packages (from mapclassify) (2.3.2)\n",
      "Requirement already satisfied: scikit-learn>=1.4 in ./.venv/lib/python3.13/site-packages (from mapclassify) (1.7.1)\n",
      "Requirement already satisfied: scipy>=1.12 in ./.venv/lib/python3.13/site-packages (from mapclassify) (1.16.1)\n",
      "Requirement already satisfied: MarkupSafe>=2.0 in ./.venv/lib/python3.13/site-packages (from jinja2>=2.9->folium>=0.12) (3.0.2)\n",
      "Requirement already satisfied: pytz>=2020.1 in ./.venv/lib/python3.13/site-packages (from pandas>=2.1->mapclassify) (2025.2)\n",
      "Requirement already satisfied: tzdata>=2022.7 in ./.venv/lib/python3.13/site-packages (from pandas>=2.1->mapclassify) (2025.2)\n",
      "Requirement already satisfied: six>=1.5 in ./.venv/lib/python3.13/site-packages (from python-dateutil>=2.7->matplotlib) (1.17.0)\n",
      "Requirement already satisfied: joblib>=1.2.0 in ./.venv/lib/python3.13/site-packages (from scikit-learn>=1.4->mapclassify) (1.5.2)\n",
      "Requirement already satisfied: threadpoolctl>=3.1.0 in ./.venv/lib/python3.13/site-packages (from scikit-learn>=1.4->mapclassify) (3.6.0)\n",
      "Requirement already satisfied: charset_normalizer<4,>=2 in ./.venv/lib/python3.13/site-packages (from requests->folium>=0.12) (3.4.3)\n",
      "Requirement already satisfied: idna<4,>=2.5 in ./.venv/lib/python3.13/site-packages (from requests->folium>=0.12) (3.10)\n",
      "Requirement already satisfied: urllib3<3,>=1.21.1 in ./.venv/lib/python3.13/site-packages (from requests->folium>=0.12) (2.5.0)\n",
      "Requirement already satisfied: certifi>=2017.4.17 in ./.venv/lib/python3.13/site-packages (from requests->folium>=0.12) (2025.8.3)\n",
      "Note: you may need to restart the kernel to use updated packages.\n"
     ]
    }
   ],
   "source": [
    "pip install \"folium>=0.12\" matplotlib mapclassify"
   ]
  },
  {
   "cell_type": "code",
   "execution_count": 7,
   "id": "23d7bc75",
   "metadata": {},
   "outputs": [
    {
     "data": {
      "text/plain": [
       "<Axes: >"
      ]
     },
     "execution_count": 7,
     "metadata": {},
     "output_type": "execute_result"
    },
    {
     "data": {
      "image/png": "[encoded data removed]",
      "text/plain": [
       "<Figure size 640x480 with 1 Axes>"
      ]
     },
     "metadata": {},
     "output_type": "display_data"
    }
   ],
   "source": [
    "gdf.plot()"
   ]
  },
  {
   "cell_type": "code",
   "execution_count": 8,
   "id": "39676e20",
   "metadata": {},
   "outputs": [],
   "source": [
    "import matplotlib.pyplot as plt"
   ]
  },
  {
   "cell_type": "code",
   "execution_count": 9,
   "id": "7f2d82c2",
   "metadata": {},
   "outputs": [
    {
     "data": {
      "image/png": "[encoded data removed]",
      "text/plain": [
       "<Figure size 1000x1000 with 1 Axes>"
      ]
     },
     "metadata": {},
     "output_type": "display_data"
    }
   ],
   "source": [
    "fig, ax = plt.subplots(figsize=(10, 10))\n",
    "gdf.plot(ax=ax, color = 'red', markersize=50)\n",
    "for x, y, label in zip(gdf.geometry.x, gdf.geometry.y, gdf.Population ):\n",
    "    ax.text(x, y, label, fontsize=8, color='black', ha='right')\n",
    "plt.title(\"Point Dataset with labels\")\n",
    "plt.show()"
   ]
  },
  {
   "cell_type": "code",
   "execution_count": 10,
   "id": "976f605e",
   "metadata": {},
   "outputs": [],
   "source": [
    "gdf = gdf.set_crs(epsg=4326)\n",
    "gdf = gdf.set_crs('EPSG:4326')\n",
    "\n"
   ]
  },
  {
   "cell_type": "code",
   "execution_count": 11,
   "id": "e25d0cb1",
   "metadata": {},
   "outputs": [
    {
     "data": {
      "text/plain": [
       "<Geographic 2D CRS: EPSG:4326>\n",
       "Name: WGS 84\n",
       "Axis Info [ellipsoidal]:\n",
       "- Lat[north]: Geodetic latitude (degree)\n",
       "- Lon[east]: Geodetic longitude (degree)\n",
       "Area of Use:\n",
       "- name: World.\n",
       "- bounds: (-180.0, -90.0, 180.0, 90.0)\n",
       "Datum: World Geodetic System 1984 ensemble\n",
       "- Ellipsoid: WGS 84\n",
       "- Prime Meridian: Greenwich"
      ]
     },
     "execution_count": 11,
     "metadata": {},
     "output_type": "execute_result"
    }
   ],
   "source": [
    "gdf.crs"
   ]
  },
  {
   "cell_type": "code",
   "execution_count": 12,
   "id": "a4d4e79e",
   "metadata": {},
   "outputs": [
    {
     "data": {
      "text/html": [
       "<div style=\"width:100%;\"><div style=\"position:relative;width:100%;height:0;padding-bottom:60%;\"><span style=\"color:#565656\">Make this Notebook Trusted to load map: File -> Trust Notebook</span><iframe srcdoc=\"&lt;!DOCTYPE html&gt;\n",
       "&lt;html&gt;\n",
       "&lt;head&gt;\n",
       "    \n",
       "    &lt;meta http-equiv=&quot;content-type&quot; content=&quot;text/html; charset=UTF-8&quot; /&gt;\n",
       "    &lt;script src=&quot;https://cdn.jsdelivr.net/npm/leaflet@1.9.3/dist/leaflet.js&quot;&gt;&lt;/script&gt;\n",
       "    &lt;script src=&quot;https://code.jquery.com/jquery-3.7.1.min.js&quot;&gt;&lt;/script&gt;\n",
       "    &lt;script src=&quot;https://cdn.jsdelivr.net/npm/bootstrap@5.2.2/dist/js/bootstrap.bundle.min.js&quot;&gt;&lt;/script&gt;\n",
       "    &lt;script src=&quot;https://cdnjs.cloudflare.com/ajax/libs/Leaflet.awesome-markers/2.0.2/leaflet.awesome-markers.js&quot;&gt;&lt;/script&gt;\n",
       "    &lt;link rel=&quot;stylesheet&quot; href=&quot;https://cdn.jsdelivr.net/npm/leaflet@1.9.3/dist/leaflet.css&quot;/&gt;\n",
       "    &lt;link rel=&quot;stylesheet&quot; href=&quot;https://cdn.jsdelivr.net/npm/bootstrap@5.2.2/dist/css/bootstrap.min.css&quot;/&gt;\n",
       "    &lt;link rel=&quot;stylesheet&quot; href=&quot;https://netdna.bootstrapcdn.com/bootstrap/3.0.0/css/bootstrap-glyphicons.css&quot;/&gt;\n",
       "    &lt;link rel=&quot;stylesheet&quot; href=&quot;https://cdn.jsdelivr.net/npm/@fortawesome/fontawesome-free@6.2.0/css/all.min.css&quot;/&gt;\n",
       "    &lt;link rel=&quot;stylesheet&quot; href=&quot;https://cdnjs.cloudflare.com/ajax/libs/Leaflet.awesome-markers/2.0.2/leaflet.awesome-markers.css&quot;/&gt;\n",
       "    &lt;link rel=&quot;stylesheet&quot; href=&quot;https://cdn.jsdelivr.net/gh/python-visualization/folium/folium/templates/leaflet.awesome.rotate.min.css&quot;/&gt;\n",
       "    \n",
       "            &lt;meta name=&quot;viewport&quot; content=&quot;width=device-width,\n",
       "                initial-scale=1.0, maximum-scale=1.0, user-scalable=no&quot; /&gt;\n",
       "            &lt;style&gt;\n",
       "                #map_090bb04b7a7ef1b84afc7e4a54cae8dc {\n",
       "                    position: relative;\n",
       "                    width: 100.0%;\n",
       "                    height: 100.0%;\n",
       "                    left: 0.0%;\n",
       "                    top: 0.0%;\n",
       "                }\n",
       "                .leaflet-container { font-size: 1rem; }\n",
       "            &lt;/style&gt;\n",
       "\n",
       "            &lt;style&gt;html, body {\n",
       "                width: 100%;\n",
       "                height: 100%;\n",
       "                margin: 0;\n",
       "                padding: 0;\n",
       "            }\n",
       "            &lt;/style&gt;\n",
       "\n",
       "            &lt;style&gt;#map {\n",
       "                position:absolute;\n",
       "                top:0;\n",
       "                bottom:0;\n",
       "                right:0;\n",
       "                left:0;\n",
       "                }\n",
       "            &lt;/style&gt;\n",
       "\n",
       "            &lt;script&gt;\n",
       "                L_NO_TOUCH = false;\n",
       "                L_DISABLE_3D = false;\n",
       "            &lt;/script&gt;\n",
       "\n",
       "        \n",
       "    \n",
       "                    &lt;style&gt;\n",
       "                        .foliumtooltip {\n",
       "                            \n",
       "                        }\n",
       "                       .foliumtooltip table{\n",
       "                            margin: auto;\n",
       "                        }\n",
       "                        .foliumtooltip tr{\n",
       "                            text-align: left;\n",
       "                        }\n",
       "                        .foliumtooltip th{\n",
       "                            padding: 2px; padding-right: 8px;\n",
       "                        }\n",
       "                    &lt;/style&gt;\n",
       "            \n",
       "&lt;/head&gt;\n",
       "&lt;body&gt;\n",
       "    \n",
       "    \n",
       "            &lt;div class=&quot;folium-map&quot; id=&quot;map_090bb04b7a7ef1b84afc7e4a54cae8dc&quot; &gt;&lt;/div&gt;\n",
       "        \n",
       "&lt;/body&gt;\n",
       "&lt;script&gt;\n",
       "    \n",
       "    \n",
       "            var map_090bb04b7a7ef1b84afc7e4a54cae8dc = L.map(\n",
       "                &quot;map_090bb04b7a7ef1b84afc7e4a54cae8dc&quot;,\n",
       "                {\n",
       "                    center: [3.421994999999999, 38.60165000000001],\n",
       "                    crs: L.CRS.EPSG3857,\n",
       "                    ...{\n",
       "  &quot;zoom&quot;: 10,\n",
       "  &quot;zoomControl&quot;: true,\n",
       "  &quot;preferCanvas&quot;: false,\n",
       "}\n",
       "\n",
       "                }\n",
       "            );\n",
       "            L.control.scale().addTo(map_090bb04b7a7ef1b84afc7e4a54cae8dc);\n",
       "\n",
       "            \n",
       "\n",
       "        \n",
       "    \n",
       "            var tile_layer_634322544e3259f94e7d216fa42f3656 = L.tileLayer(\n",
       "                &quot;https://tile.openstreetmap.org/{z}/{x}/{y}.png&quot;,\n",
       "                {\n",
       "  &quot;minZoom&quot;: 0,\n",
       "  &quot;maxZoom&quot;: 19,\n",
       "  &quot;maxNativeZoom&quot;: 19,\n",
       "  &quot;noWrap&quot;: false,\n",
       "  &quot;attribution&quot;: &quot;\\u0026copy; \\u003ca href=\\&quot;https://www.openstreetmap.org/copyright\\&quot;\\u003eOpenStreetMap\\u003c/a\\u003e contributors&quot;,\n",
       "  &quot;subdomains&quot;: &quot;abc&quot;,\n",
       "  &quot;detectRetina&quot;: false,\n",
       "  &quot;tms&quot;: false,\n",
       "  &quot;opacity&quot;: 1,\n",
       "}\n",
       "\n",
       "            );\n",
       "        \n",
       "    \n",
       "            tile_layer_634322544e3259f94e7d216fa42f3656.addTo(map_090bb04b7a7ef1b84afc7e4a54cae8dc);\n",
       "        \n",
       "    \n",
       "            map_090bb04b7a7ef1b84afc7e4a54cae8dc.fitBounds(\n",
       "                [[-33.86881, -74.006], [40.7128, 151.2093]],\n",
       "                {}\n",
       "            );\n",
       "        \n",
       "    \n",
       "        function geo_json_7431b1e5682f61f777f04847a569e0a1_styler(feature) {\n",
       "            switch(feature.id) {\n",
       "                default:\n",
       "                    return {&quot;fillOpacity&quot;: 0.5, &quot;weight&quot;: 2};\n",
       "            }\n",
       "        }\n",
       "        function geo_json_7431b1e5682f61f777f04847a569e0a1_highlighter(feature) {\n",
       "            switch(feature.id) {\n",
       "                default:\n",
       "                    return {&quot;fillOpacity&quot;: 0.75};\n",
       "            }\n",
       "        }\n",
       "        function geo_json_7431b1e5682f61f777f04847a569e0a1_pointToLayer(feature, latlng) {\n",
       "            var opts = {\n",
       "  &quot;stroke&quot;: true,\n",
       "  &quot;color&quot;: &quot;#3388ff&quot;,\n",
       "  &quot;weight&quot;: 3,\n",
       "  &quot;opacity&quot;: 1.0,\n",
       "  &quot;lineCap&quot;: &quot;round&quot;,\n",
       "  &quot;lineJoin&quot;: &quot;round&quot;,\n",
       "  &quot;dashArray&quot;: null,\n",
       "  &quot;dashOffset&quot;: null,\n",
       "  &quot;fill&quot;: true,\n",
       "  &quot;fillColor&quot;: &quot;#3388ff&quot;,\n",
       "  &quot;fillOpacity&quot;: 0.2,\n",
       "  &quot;fillRule&quot;: &quot;evenodd&quot;,\n",
       "  &quot;bubblingMouseEvents&quot;: true,\n",
       "  &quot;radius&quot;: 2,\n",
       "};\n",
       "            \n",
       "            let style = geo_json_7431b1e5682f61f777f04847a569e0a1_styler(feature)\n",
       "            Object.assign(opts, style)\n",
       "            \n",
       "            return new L.CircleMarker(latlng, opts)\n",
       "        }\n",
       "\n",
       "        function geo_json_7431b1e5682f61f777f04847a569e0a1_onEachFeature(feature, layer) {\n",
       "\n",
       "            layer.on({\n",
       "                mouseout: function(e) {\n",
       "                    if(typeof e.target.setStyle === &quot;function&quot;){\n",
       "                            geo_json_7431b1e5682f61f777f04847a569e0a1.resetStyle(e.target);\n",
       "                    }\n",
       "                },\n",
       "                mouseover: function(e) {\n",
       "                    if(typeof e.target.setStyle === &quot;function&quot;){\n",
       "                        const highlightStyle = geo_json_7431b1e5682f61f777f04847a569e0a1_highlighter(e.target.feature)\n",
       "                        e.target.setStyle(highlightStyle);\n",
       "                    }\n",
       "                },\n",
       "            });\n",
       "        };\n",
       "        var geo_json_7431b1e5682f61f777f04847a569e0a1 = L.geoJson(null, {\n",
       "                onEachFeature: geo_json_7431b1e5682f61f777f04847a569e0a1_onEachFeature,\n",
       "            \n",
       "                style: geo_json_7431b1e5682f61f777f04847a569e0a1_styler,\n",
       "                pointToLayer: geo_json_7431b1e5682f61f777f04847a569e0a1_pointToLayer,\n",
       "            ...{\n",
       "}\n",
       "        });\n",
       "\n",
       "        function geo_json_7431b1e5682f61f777f04847a569e0a1_add (data) {\n",
       "            geo_json_7431b1e5682f61f777f04847a569e0a1\n",
       "                .addData(data);\n",
       "        }\n",
       "            geo_json_7431b1e5682f61f777f04847a569e0a1_add({&quot;bbox&quot;: [-74.006, -33.86881, 151.2093, 40.7128], &quot;features&quot;: [{&quot;bbox&quot;: [-74.006, 40.7128, -74.006, 40.7128], &quot;geometry&quot;: {&quot;coordinates&quot;: [-74.006, 40.7128], &quot;type&quot;: &quot;Point&quot;}, &quot;id&quot;: &quot;0&quot;, &quot;properties&quot;: {&quot;Latitude&quot;: 40.7128, &quot;Longitude&quot;: -74.006, &quot;Name&quot;: &quot;New York City&quot;, &quot;Population&quot;: 8419600}, &quot;type&quot;: &quot;Feature&quot;}, {&quot;bbox&quot;: [-46.6333, -23.5505, -46.6333, -23.5505], &quot;geometry&quot;: {&quot;coordinates&quot;: [-46.6333, -23.5505], &quot;type&quot;: &quot;Point&quot;}, &quot;id&quot;: &quot;1&quot;, &quot;properties&quot;: {&quot;Latitude&quot;: -23.5505, &quot;Longitude&quot;: -46.6333, &quot;Name&quot;: &quot;S\\u00e3o Paulo&quot;, &quot;Population&quot;: 12325232}, &quot;type&quot;: &quot;Feature&quot;}, {&quot;bbox&quot;: [139.6917, 35.6895, 139.6917, 35.6895], &quot;geometry&quot;: {&quot;coordinates&quot;: [139.6917, 35.6895], &quot;type&quot;: &quot;Point&quot;}, &quot;id&quot;: &quot;2&quot;, &quot;properties&quot;: {&quot;Latitude&quot;: 35.6895, &quot;Longitude&quot;: 139.6917, &quot;Name&quot;: &quot;Tokyo&quot;, &quot;Population&quot;: 13929286}, &quot;type&quot;: &quot;Feature&quot;}, {&quot;bbox&quot;: [3.3792, 6.5244, 3.3792, 6.5244], &quot;geometry&quot;: {&quot;coordinates&quot;: [3.3792, 6.5244], &quot;type&quot;: &quot;Point&quot;}, &quot;id&quot;: &quot;3&quot;, &quot;properties&quot;: {&quot;Latitude&quot;: 6.5244, &quot;Longitude&quot;: 3.3792, &quot;Name&quot;: &quot;Lagos&quot;, &quot;Population&quot;: 15000000}, &quot;type&quot;: &quot;Feature&quot;}, {&quot;bbox&quot;: [151.2093, -33.86881, 151.2093, -33.86881], &quot;geometry&quot;: {&quot;coordinates&quot;: [151.2093, -33.86881], &quot;type&quot;: &quot;Point&quot;}, &quot;id&quot;: &quot;4&quot;, &quot;properties&quot;: {&quot;Latitude&quot;: -33.86881, &quot;Longitude&quot;: 151.2093, &quot;Name&quot;: &quot;Sydney&quot;, &quot;Population&quot;: 53121631}, &quot;type&quot;: &quot;Feature&quot;}], &quot;type&quot;: &quot;FeatureCollection&quot;});\n",
       "\n",
       "        \n",
       "    \n",
       "    geo_json_7431b1e5682f61f777f04847a569e0a1.bindTooltip(\n",
       "    function(layer){\n",
       "    let div = L.DomUtil.create(&#x27;div&#x27;);\n",
       "    \n",
       "    let handleObject = feature =&gt; {\n",
       "        if (feature === null) {\n",
       "            return &#x27;&#x27;;\n",
       "        } else if (typeof(feature)==&#x27;object&#x27;) {\n",
       "            return JSON.stringify(feature);\n",
       "        } else {\n",
       "            return feature;\n",
       "        }\n",
       "    }\n",
       "    let fields = [&quot;Name&quot;, &quot;Population&quot;, &quot;Latitude&quot;, &quot;Longitude&quot;];\n",
       "    let aliases = [&quot;Name&quot;, &quot;Population&quot;, &quot;Latitude&quot;, &quot;Longitude&quot;];\n",
       "    let table = &#x27;&lt;table&gt;&#x27; +\n",
       "        String(\n",
       "        fields.map(\n",
       "        (v,i)=&gt;\n",
       "        `&lt;tr&gt;\n",
       "            &lt;th&gt;${aliases[i]}&lt;/th&gt;\n",
       "            \n",
       "            &lt;td&gt;${handleObject(layer.feature.properties[v])}&lt;/td&gt;\n",
       "        &lt;/tr&gt;`).join(&#x27;&#x27;))\n",
       "    +&#x27;&lt;/table&gt;&#x27;;\n",
       "    div.innerHTML=table;\n",
       "    \n",
       "    return div\n",
       "    }\n",
       "    ,{\n",
       "  &quot;sticky&quot;: true,\n",
       "  &quot;className&quot;: &quot;foliumtooltip&quot;,\n",
       "});\n",
       "                     \n",
       "    \n",
       "            geo_json_7431b1e5682f61f777f04847a569e0a1.addTo(map_090bb04b7a7ef1b84afc7e4a54cae8dc);\n",
       "        \n",
       "&lt;/script&gt;\n",
       "&lt;/html&gt;\" style=\"position:absolute;width:100%;height:100%;left:0;top:0;border:none !important;\" allowfullscreen webkitallowfullscreen mozallowfullscreen></iframe></div></div>"
      ],
      "text/plain": [
       "<folium.folium.Map at 0x129af0830>"
      ]
     },
     "execution_count": 12,
     "metadata": {},
     "output_type": "execute_result"
    }
   ],
   "source": [
    "gdf.explore()"
   ]
  },
  {
   "cell_type": "code",
   "execution_count": 13,
   "id": "950d9765",
   "metadata": {},
   "outputs": [
    {
     "name": "stdout",
     "output_type": "stream",
     "text": [
      "Requirement already satisfied: leafmap in ./.venv/lib/python3.13/site-packages (0.52.0)\n",
      "Requirement already satisfied: anywidget in ./.venv/lib/python3.13/site-packages (from leafmap) (0.9.18)\n",
      "Requirement already satisfied: bqplot in ./.venv/lib/python3.13/site-packages (from leafmap) (0.12.45)\n",
      "Requirement already satisfied: duckdb in ./.venv/lib/python3.13/site-packages (from leafmap) (1.3.2)\n",
      "Requirement already satisfied: folium in ./.venv/lib/python3.13/site-packages (from leafmap) (0.20.0)\n",
      "Requirement already satisfied: gdown in ./.venv/lib/python3.13/site-packages (from leafmap) (5.2.0)\n",
      "Requirement already satisfied: geojson in ./.venv/lib/python3.13/site-packages (from leafmap) (3.2.0)\n",
      "Requirement already satisfied: geopandas in ./.venv/lib/python3.13/site-packages (from leafmap) (1.1.1)\n",
      "Requirement already satisfied: ipyevents in ./.venv/lib/python3.13/site-packages (from leafmap) (2.0.2)\n",
      "Requirement already satisfied: ipyfilechooser in ./.venv/lib/python3.13/site-packages (from leafmap) (0.6.0)\n",
      "Requirement already satisfied: ipyleaflet in ./.venv/lib/python3.13/site-packages (from leafmap) (0.20.0)\n",
      "Requirement already satisfied: ipyvuetify in ./.venv/lib/python3.13/site-packages (from leafmap) (1.11.3)\n",
      "Requirement already satisfied: ipywidgets in ./.venv/lib/python3.13/site-packages (from leafmap) (8.1.7)\n",
      "Requirement already satisfied: maplibre in ./.venv/lib/python3.13/site-packages (from leafmap) (0.3.5)\n",
      "Requirement already satisfied: matplotlib in ./.venv/lib/python3.13/site-packages (from leafmap) (3.10.6)\n",
      "Requirement already satisfied: numpy in ./.venv/lib/python3.13/site-packages (from leafmap) (2.3.2)\n",
      "Requirement already satisfied: pandas in ./.venv/lib/python3.13/site-packages (from leafmap) (2.3.2)\n",
      "Requirement already satisfied: plotly in ./.venv/lib/python3.13/site-packages (from leafmap) (6.3.0)\n",
      "Requirement already satisfied: pystac-client in ./.venv/lib/python3.13/site-packages (from leafmap) (0.9.0)\n",
      "Requirement already satisfied: python-box in ./.venv/lib/python3.13/site-packages (from leafmap) (7.3.2)\n",
      "Requirement already satisfied: scooby in ./.venv/lib/python3.13/site-packages (from leafmap) (0.10.1)\n",
      "Requirement already satisfied: whiteboxgui in ./.venv/lib/python3.13/site-packages (from leafmap) (2.3.0)\n",
      "Requirement already satisfied: xyzservices in ./.venv/lib/python3.13/site-packages (from leafmap) (2025.4.0)\n",
      "Requirement already satisfied: psygnal>=0.8.1 in ./.venv/lib/python3.13/site-packages (from anywidget->leafmap) (0.14.1)\n",
      "Requirement already satisfied: typing-extensions>=4.2.0 in ./.venv/lib/python3.13/site-packages (from anywidget->leafmap) (4.15.0)\n",
      "Requirement already satisfied: comm>=0.1.3 in ./.venv/lib/python3.13/site-packages (from ipywidgets->leafmap) (0.2.3)\n",
      "Requirement already satisfied: ipython>=6.1.0 in ./.venv/lib/python3.13/site-packages (from ipywidgets->leafmap) (9.5.0)\n",
      "Requirement already satisfied: traitlets>=4.3.1 in ./.venv/lib/python3.13/site-packages (from ipywidgets->leafmap) (5.14.3)\n",
      "Requirement already satisfied: widgetsnbextension~=4.0.14 in ./.venv/lib/python3.13/site-packages (from ipywidgets->leafmap) (4.0.14)\n",
      "Requirement already satisfied: jupyterlab_widgets~=3.0.15 in ./.venv/lib/python3.13/site-packages (from ipywidgets->leafmap) (3.0.15)\n",
      "Requirement already satisfied: decorator in ./.venv/lib/python3.13/site-packages (from ipython>=6.1.0->ipywidgets->leafmap) (5.2.1)\n",
      "Requirement already satisfied: ipython-pygments-lexers in ./.venv/lib/python3.13/site-packages (from ipython>=6.1.0->ipywidgets->leafmap) (1.1.1)\n",
      "Requirement already satisfied: jedi>=0.16 in ./.venv/lib/python3.13/site-packages (from ipython>=6.1.0->ipywidgets->leafmap) (0.19.2)\n",
      "Requirement already satisfied: matplotlib-inline in ./.venv/lib/python3.13/site-packages (from ipython>=6.1.0->ipywidgets->leafmap) (0.1.7)\n",
      "Requirement already satisfied: pexpect>4.3 in ./.venv/lib/python3.13/site-packages (from ipython>=6.1.0->ipywidgets->leafmap) (4.9.0)\n",
      "Requirement already satisfied: prompt_toolkit<3.1.0,>=3.0.41 in ./.venv/lib/python3.13/site-packages (from ipython>=6.1.0->ipywidgets->leafmap) (3.0.52)\n",
      "Requirement already satisfied: pygments>=2.4.0 in ./.venv/lib/python3.13/site-packages (from ipython>=6.1.0->ipywidgets->leafmap) (2.19.2)\n",
      "Requirement already satisfied: stack_data in ./.venv/lib/python3.13/site-packages (from ipython>=6.1.0->ipywidgets->leafmap) (0.6.3)\n",
      "Requirement already satisfied: wcwidth in ./.venv/lib/python3.13/site-packages (from prompt_toolkit<3.1.0,>=3.0.41->ipython>=6.1.0->ipywidgets->leafmap) (0.2.13)\n",
      "Requirement already satisfied: parso<0.9.0,>=0.8.4 in ./.venv/lib/python3.13/site-packages (from jedi>=0.16->ipython>=6.1.0->ipywidgets->leafmap) (0.8.5)\n",
      "Requirement already satisfied: ptyprocess>=0.5 in ./.venv/lib/python3.13/site-packages (from pexpect>4.3->ipython>=6.1.0->ipywidgets->leafmap) (0.7.0)\n",
      "Requirement already satisfied: traittypes>=0.0.6 in ./.venv/lib/python3.13/site-packages (from bqplot->leafmap) (0.2.1)\n",
      "Requirement already satisfied: python-dateutil>=2.8.2 in ./.venv/lib/python3.13/site-packages (from pandas->leafmap) (2.9.0.post0)\n",
      "Requirement already satisfied: pytz>=2020.1 in ./.venv/lib/python3.13/site-packages (from pandas->leafmap) (2025.2)\n",
      "Requirement already satisfied: tzdata>=2022.7 in ./.venv/lib/python3.13/site-packages (from pandas->leafmap) (2025.2)\n",
      "Requirement already satisfied: six>=1.5 in ./.venv/lib/python3.13/site-packages (from python-dateutil>=2.8.2->pandas->leafmap) (1.17.0)\n",
      "Requirement already satisfied: branca>=0.6.0 in ./.venv/lib/python3.13/site-packages (from folium->leafmap) (0.8.1)\n",
      "Requirement already satisfied: jinja2>=2.9 in ./.venv/lib/python3.13/site-packages (from folium->leafmap) (3.1.6)\n",
      "Requirement already satisfied: requests in ./.venv/lib/python3.13/site-packages (from folium->leafmap) (2.32.5)\n",
      "Requirement already satisfied: MarkupSafe>=2.0 in ./.venv/lib/python3.13/site-packages (from jinja2>=2.9->folium->leafmap) (3.0.2)\n",
      "Requirement already satisfied: beautifulsoup4 in ./.venv/lib/python3.13/site-packages (from gdown->leafmap) (4.13.5)\n",
      "Requirement already satisfied: filelock in ./.venv/lib/python3.13/site-packages (from gdown->leafmap) (3.19.1)\n",
      "Requirement already satisfied: tqdm in ./.venv/lib/python3.13/site-packages (from gdown->leafmap) (4.67.1)\n",
      "Requirement already satisfied: soupsieve>1.2 in ./.venv/lib/python3.13/site-packages (from beautifulsoup4->gdown->leafmap) (2.8)\n",
      "Requirement already satisfied: pyogrio>=0.7.2 in ./.venv/lib/python3.13/site-packages (from geopandas->leafmap) (0.11.1)\n",
      "Requirement already satisfied: packaging in ./.venv/lib/python3.13/site-packages (from geopandas->leafmap) (25.0)\n",
      "Requirement already satisfied: pyproj>=3.5.0 in ./.venv/lib/python3.13/site-packages (from geopandas->leafmap) (3.7.2)\n",
      "Requirement already satisfied: shapely>=2.0.0 in ./.venv/lib/python3.13/site-packages (from geopandas->leafmap) (2.1.1)\n",
      "Requirement already satisfied: certifi in ./.venv/lib/python3.13/site-packages (from pyogrio>=0.7.2->geopandas->leafmap) (2025.8.3)\n",
      "Requirement already satisfied: jupyter-leaflet<0.21,>=0.20 in ./.venv/lib/python3.13/site-packages (from ipyleaflet->leafmap) (0.20.0)\n",
      "Requirement already satisfied: ipyvue<2,>=1.7 in ./.venv/lib/python3.13/site-packages (from ipyvuetify->leafmap) (1.11.2)\n",
      "Requirement already satisfied: eval-type-backport in ./.venv/lib/python3.13/site-packages (from maplibre->leafmap) (0.2.2)\n",
      "Requirement already satisfied: pydantic>=2.5.3 in ./.venv/lib/python3.13/site-packages (from maplibre->leafmap) (2.11.7)\n",
      "Requirement already satisfied: annotated-types>=0.6.0 in ./.venv/lib/python3.13/site-packages (from pydantic>=2.5.3->maplibre->leafmap) (0.7.0)\n",
      "Requirement already satisfied: pydantic-core==2.33.2 in ./.venv/lib/python3.13/site-packages (from pydantic>=2.5.3->maplibre->leafmap) (2.33.2)\n",
      "Requirement already satisfied: typing-inspection>=0.4.0 in ./.venv/lib/python3.13/site-packages (from pydantic>=2.5.3->maplibre->leafmap) (0.4.1)\n",
      "Requirement already satisfied: contourpy>=1.0.1 in ./.venv/lib/python3.13/site-packages (from matplotlib->leafmap) (1.3.3)\n",
      "Requirement already satisfied: cycler>=0.10 in ./.venv/lib/python3.13/site-packages (from matplotlib->leafmap) (0.12.1)\n",
      "Requirement already satisfied: fonttools>=4.22.0 in ./.venv/lib/python3.13/site-packages (from matplotlib->leafmap) (4.59.2)\n",
      "Requirement already satisfied: kiwisolver>=1.3.1 in ./.venv/lib/python3.13/site-packages (from matplotlib->leafmap) (1.4.9)\n",
      "Requirement already satisfied: pillow>=8 in ./.venv/lib/python3.13/site-packages (from matplotlib->leafmap) (11.3.0)\n",
      "Requirement already satisfied: pyparsing>=2.3.1 in ./.venv/lib/python3.13/site-packages (from matplotlib->leafmap) (3.2.3)\n",
      "Requirement already satisfied: narwhals>=1.15.1 in ./.venv/lib/python3.13/site-packages (from plotly->leafmap) (2.2.0)\n",
      "Requirement already satisfied: pystac>=1.10.0 in ./.venv/lib/python3.13/site-packages (from pystac[validation]>=1.10.0->pystac-client->leafmap) (1.13.0)\n",
      "Requirement already satisfied: jsonschema~=4.18 in ./.venv/lib/python3.13/site-packages (from pystac[validation]>=1.10.0->pystac-client->leafmap) (4.25.1)\n",
      "Requirement already satisfied: attrs>=22.2.0 in ./.venv/lib/python3.13/site-packages (from jsonschema~=4.18->pystac[validation]>=1.10.0->pystac-client->leafmap) (25.3.0)\n",
      "Requirement already satisfied: jsonschema-specifications>=2023.03.6 in ./.venv/lib/python3.13/site-packages (from jsonschema~=4.18->pystac[validation]>=1.10.0->pystac-client->leafmap) (2025.4.1)\n",
      "Requirement already satisfied: referencing>=0.28.4 in ./.venv/lib/python3.13/site-packages (from jsonschema~=4.18->pystac[validation]>=1.10.0->pystac-client->leafmap) (0.36.2)\n",
      "Requirement already satisfied: rpds-py>=0.7.1 in ./.venv/lib/python3.13/site-packages (from jsonschema~=4.18->pystac[validation]>=1.10.0->pystac-client->leafmap) (0.27.1)\n",
      "Requirement already satisfied: charset_normalizer<4,>=2 in ./.venv/lib/python3.13/site-packages (from requests->folium->leafmap) (3.4.3)\n",
      "Requirement already satisfied: idna<4,>=2.5 in ./.venv/lib/python3.13/site-packages (from requests->folium->leafmap) (3.10)\n",
      "Requirement already satisfied: urllib3<3,>=1.21.1 in ./.venv/lib/python3.13/site-packages (from requests->folium->leafmap) (2.5.0)\n",
      "Requirement already satisfied: PySocks!=1.5.7,>=1.5.6 in ./.venv/lib/python3.13/site-packages (from requests[socks]->gdown->leafmap) (1.7.1)\n",
      "Requirement already satisfied: executing>=1.2.0 in ./.venv/lib/python3.13/site-packages (from stack_data->ipython>=6.1.0->ipywidgets->leafmap) (2.2.0)\n",
      "Requirement already satisfied: asttokens>=2.1.0 in ./.venv/lib/python3.13/site-packages (from stack_data->ipython>=6.1.0->ipywidgets->leafmap) (3.0.0)\n",
      "Requirement already satisfied: pure-eval in ./.venv/lib/python3.13/site-packages (from stack_data->ipython>=6.1.0->ipywidgets->leafmap) (0.2.3)\n",
      "Requirement already satisfied: ipytree in ./.venv/lib/python3.13/site-packages (from whiteboxgui->leafmap) (0.2.2)\n",
      "Requirement already satisfied: whitebox in ./.venv/lib/python3.13/site-packages (from whiteboxgui->leafmap) (2.3.6)\n",
      "Requirement already satisfied: Click>=6.0 in ./.venv/lib/python3.13/site-packages (from whitebox->whiteboxgui->leafmap) (8.2.1)\n",
      "Note: you may need to restart the kernel to use updated packages.\n"
     ]
    }
   ],
   "source": [
    "pip install leafmap"
   ]
  },
  {
   "cell_type": "code",
   "execution_count": 14,
   "id": "8aa1a72b",
   "metadata": {},
   "outputs": [
    {
     "name": "stdout",
     "output_type": "stream",
     "text": [
      "Requirement already satisfied: ipywidgets in ./.venv/lib/python3.13/site-packages (8.1.7)\n",
      "Requirement already satisfied: comm>=0.1.3 in ./.venv/lib/python3.13/site-packages (from ipywidgets) (0.2.3)\n",
      "Requirement already satisfied: ipython>=6.1.0 in ./.venv/lib/python3.13/site-packages (from ipywidgets) (9.5.0)\n",
      "Requirement already satisfied: traitlets>=4.3.1 in ./.venv/lib/python3.13/site-packages (from ipywidgets) (5.14.3)\n",
      "Requirement already satisfied: widgetsnbextension~=4.0.14 in ./.venv/lib/python3.13/site-packages (from ipywidgets) (4.0.14)\n",
      "Requirement already satisfied: jupyterlab_widgets~=3.0.15 in ./.venv/lib/python3.13/site-packages (from ipywidgets) (3.0.15)\n",
      "Requirement already satisfied: decorator in ./.venv/lib/python3.13/site-packages (from ipython>=6.1.0->ipywidgets) (5.2.1)\n",
      "Requirement already satisfied: ipython-pygments-lexers in ./.venv/lib/python3.13/site-packages (from ipython>=6.1.0->ipywidgets) (1.1.1)\n",
      "Requirement already satisfied: jedi>=0.16 in ./.venv/lib/python3.13/site-packages (from ipython>=6.1.0->ipywidgets) (0.19.2)\n",
      "Requirement already satisfied: matplotlib-inline in ./.venv/lib/python3.13/site-packages (from ipython>=6.1.0->ipywidgets) (0.1.7)\n",
      "Requirement already satisfied: pexpect>4.3 in ./.venv/lib/python3.13/site-packages (from ipython>=6.1.0->ipywidgets) (4.9.0)\n",
      "Requirement already satisfied: prompt_toolkit<3.1.0,>=3.0.41 in ./.venv/lib/python3.13/site-packages (from ipython>=6.1.0->ipywidgets) (3.0.52)\n",
      "Requirement already satisfied: pygments>=2.4.0 in ./.venv/lib/python3.13/site-packages (from ipython>=6.1.0->ipywidgets) (2.19.2)\n",
      "Requirement already satisfied: stack_data in ./.venv/lib/python3.13/site-packages (from ipython>=6.1.0->ipywidgets) (0.6.3)\n",
      "Requirement already satisfied: wcwidth in ./.venv/lib/python3.13/site-packages (from prompt_toolkit<3.1.0,>=3.0.41->ipython>=6.1.0->ipywidgets) (0.2.13)\n",
      "Requirement already satisfied: parso<0.9.0,>=0.8.4 in ./.venv/lib/python3.13/site-packages (from jedi>=0.16->ipython>=6.1.0->ipywidgets) (0.8.5)\n",
      "Requirement already satisfied: ptyprocess>=0.5 in ./.venv/lib/python3.13/site-packages (from pexpect>4.3->ipython>=6.1.0->ipywidgets) (0.7.0)\n",
      "Requirement already satisfied: executing>=1.2.0 in ./.venv/lib/python3.13/site-packages (from stack_data->ipython>=6.1.0->ipywidgets) (2.2.0)\n",
      "Requirement already satisfied: asttokens>=2.1.0 in ./.venv/lib/python3.13/site-packages (from stack_data->ipython>=6.1.0->ipywidgets) (3.0.0)\n",
      "Requirement already satisfied: pure-eval in ./.venv/lib/python3.13/site-packages (from stack_data->ipython>=6.1.0->ipywidgets) (0.2.3)\n",
      "Note: you may need to restart the kernel to use updated packages.\n"
     ]
    }
   ],
   "source": [
    "\n",
    "pip install -U ipywidgets"
   ]
  },
  {
   "cell_type": "code",
   "execution_count": 15,
   "id": "6fb160cc",
   "metadata": {},
   "outputs": [],
   "source": [
    "import leafmap"
   ]
  },
  {
   "cell_type": "code",
   "execution_count": 16,
   "id": "b31cc47c",
   "metadata": {},
   "outputs": [
    {
     "ename": "ImportError",
     "evalue": "cannot import name 'wms_tiles' from 'leafmap.basemaps' (/Users/dokeunoh/DevOh/project/private/project/space/workspace/geopandas/.venv/lib/python3.13/site-packages/leafmap/basemaps.py)",
     "output_type": "error",
     "traceback": [
      "\u001b[31m---------------------------------------------------------------------------\u001b[39m",
      "\u001b[31mImportError\u001b[39m                               Traceback (most recent call last)",
      "\u001b[36mFile \u001b[39m\u001b[32m~/DevOh/project/private/project/space/workspace/geopandas/.venv/lib/python3.13/site-packages/ipywidgets/widgets/widget.py:773\u001b[39m, in \u001b[36mWidget._handle_msg\u001b[39m\u001b[34m(self, msg)\u001b[39m\n\u001b[32m    771\u001b[39m         \u001b[38;5;28;01mif\u001b[39;00m \u001b[33m'\u001b[39m\u001b[33mbuffer_paths\u001b[39m\u001b[33m'\u001b[39m \u001b[38;5;129;01min\u001b[39;00m data:\n\u001b[32m    772\u001b[39m             _put_buffers(state, data[\u001b[33m'\u001b[39m\u001b[33mbuffer_paths\u001b[39m\u001b[33m'\u001b[39m], msg[\u001b[33m'\u001b[39m\u001b[33mbuffers\u001b[39m\u001b[33m'\u001b[39m])\n\u001b[32m--> \u001b[39m\u001b[32m773\u001b[39m         \u001b[38;5;28;43mself\u001b[39;49m\u001b[43m.\u001b[49m\u001b[43mset_state\u001b[49m\u001b[43m(\u001b[49m\u001b[43mstate\u001b[49m\u001b[43m)\u001b[49m\n\u001b[32m    775\u001b[39m \u001b[38;5;66;03m# Handle a state request.\u001b[39;00m\n\u001b[32m    776\u001b[39m \u001b[38;5;28;01melif\u001b[39;00m method == \u001b[33m'\u001b[39m\u001b[33mrequest_state\u001b[39m\u001b[33m'\u001b[39m:\n",
      "\u001b[36mFile \u001b[39m\u001b[32m~/DevOh/project/private/project/space/workspace/geopandas/.venv/lib/python3.13/site-packages/ipywidgets/widgets/widget.py:650\u001b[39m, in \u001b[36mWidget.set_state\u001b[39m\u001b[34m(self, sync_data)\u001b[39m\n\u001b[32m    645\u001b[39m         \u001b[38;5;28mself\u001b[39m._send(msg, buffers=echo_buffers)\n\u001b[32m    647\u001b[39m \u001b[38;5;66;03m# The order of these context managers is important. Properties must\u001b[39;00m\n\u001b[32m    648\u001b[39m \u001b[38;5;66;03m# be locked when the hold_trait_notification context manager is\u001b[39;00m\n\u001b[32m    649\u001b[39m \u001b[38;5;66;03m# released and notifications are fired.\u001b[39;00m\n\u001b[32m--> \u001b[39m\u001b[32m650\u001b[39m \u001b[43m\u001b[49m\u001b[38;5;28;43;01mwith\u001b[39;49;00m\u001b[43m \u001b[49m\u001b[38;5;28;43mself\u001b[39;49m\u001b[43m.\u001b[49m\u001b[43m_lock_property\u001b[49m\u001b[43m(\u001b[49m\u001b[43m*\u001b[49m\u001b[43m*\u001b[49m\u001b[43msync_data\u001b[49m\u001b[43m)\u001b[49m\u001b[43m,\u001b[49m\u001b[43m \u001b[49m\u001b[38;5;28;43mself\u001b[39;49m\u001b[43m.\u001b[49m\u001b[43mhold_trait_notifications\u001b[49m\u001b[43m(\u001b[49m\u001b[43m)\u001b[49m\u001b[43m:\u001b[49m\n\u001b[32m    651\u001b[39m \u001b[43m    \u001b[49m\u001b[38;5;28;43;01mfor\u001b[39;49;00m\u001b[43m \u001b[49m\u001b[43mname\u001b[49m\u001b[43m \u001b[49m\u001b[38;5;129;43;01min\u001b[39;49;00m\u001b[43m \u001b[49m\u001b[43msync_data\u001b[49m\u001b[43m:\u001b[49m\n\u001b[32m    652\u001b[39m \u001b[43m        \u001b[49m\u001b[38;5;28;43;01mif\u001b[39;49;00m\u001b[43m \u001b[49m\u001b[43mname\u001b[49m\u001b[43m \u001b[49m\u001b[38;5;129;43;01min\u001b[39;49;00m\u001b[43m \u001b[49m\u001b[38;5;28;43mself\u001b[39;49m\u001b[43m.\u001b[49m\u001b[43mkeys\u001b[49m\u001b[43m:\u001b[49m\n",
      "\u001b[36mFile \u001b[39m\u001b[32m/opt/homebrew/Cellar/python@3.13/3.13.5/Frameworks/Python.framework/Versions/3.13/lib/python3.13/contextlib.py:148\u001b[39m, in \u001b[36m_GeneratorContextManager.__exit__\u001b[39m\u001b[34m(self, typ, value, traceback)\u001b[39m\n\u001b[32m    146\u001b[39m \u001b[38;5;28;01mif\u001b[39;00m typ \u001b[38;5;129;01mis\u001b[39;00m \u001b[38;5;28;01mNone\u001b[39;00m:\n\u001b[32m    147\u001b[39m     \u001b[38;5;28;01mtry\u001b[39;00m:\n\u001b[32m--> \u001b[39m\u001b[32m148\u001b[39m         \u001b[38;5;28;43mnext\u001b[39;49m\u001b[43m(\u001b[49m\u001b[38;5;28;43mself\u001b[39;49m\u001b[43m.\u001b[49m\u001b[43mgen\u001b[49m\u001b[43m)\u001b[49m\n\u001b[32m    149\u001b[39m     \u001b[38;5;28;01mexcept\u001b[39;00m \u001b[38;5;167;01mStopIteration\u001b[39;00m:\n\u001b[32m    150\u001b[39m         \u001b[38;5;28;01mreturn\u001b[39;00m \u001b[38;5;28;01mFalse\u001b[39;00m\n",
      "\u001b[36mFile \u001b[39m\u001b[32m~/DevOh/project/private/project/space/workspace/geopandas/.venv/lib/python3.13/site-packages/traitlets/traitlets.py:1510\u001b[39m, in \u001b[36mHasTraits.hold_trait_notifications\u001b[39m\u001b[34m(self)\u001b[39m\n\u001b[32m   1508\u001b[39m \u001b[38;5;28;01mfor\u001b[39;00m changes \u001b[38;5;129;01min\u001b[39;00m cache.values():\n\u001b[32m   1509\u001b[39m     \u001b[38;5;28;01mfor\u001b[39;00m change \u001b[38;5;129;01min\u001b[39;00m changes:\n\u001b[32m-> \u001b[39m\u001b[32m1510\u001b[39m         \u001b[38;5;28;43mself\u001b[39;49m\u001b[43m.\u001b[49m\u001b[43mnotify_change\u001b[49m\u001b[43m(\u001b[49m\u001b[43mchange\u001b[49m\u001b[43m)\u001b[49m\n",
      "\u001b[36mFile \u001b[39m\u001b[32m~/DevOh/project/private/project/space/workspace/geopandas/.venv/lib/python3.13/site-packages/ipywidgets/widgets/widget.py:701\u001b[39m, in \u001b[36mWidget.notify_change\u001b[39m\u001b[34m(self, change)\u001b[39m\n\u001b[32m    698\u001b[39m     \u001b[38;5;28;01mif\u001b[39;00m name \u001b[38;5;129;01min\u001b[39;00m \u001b[38;5;28mself\u001b[39m.keys \u001b[38;5;129;01mand\u001b[39;00m \u001b[38;5;28mself\u001b[39m._should_send_property(name, \u001b[38;5;28mgetattr\u001b[39m(\u001b[38;5;28mself\u001b[39m, name)):\n\u001b[32m    699\u001b[39m         \u001b[38;5;66;03m# Send new state to front-end\u001b[39;00m\n\u001b[32m    700\u001b[39m         \u001b[38;5;28mself\u001b[39m.send_state(key=name)\n\u001b[32m--> \u001b[39m\u001b[32m701\u001b[39m \u001b[38;5;28;43msuper\u001b[39;49m\u001b[43m(\u001b[49m\u001b[43m)\u001b[49m\u001b[43m.\u001b[49m\u001b[43mnotify_change\u001b[49m\u001b[43m(\u001b[49m\u001b[43mchange\u001b[49m\u001b[43m)\u001b[49m\n",
      "\u001b[36mFile \u001b[39m\u001b[32m~/DevOh/project/private/project/space/workspace/geopandas/.venv/lib/python3.13/site-packages/traitlets/traitlets.py:1525\u001b[39m, in \u001b[36mHasTraits.notify_change\u001b[39m\u001b[34m(self, change)\u001b[39m\n\u001b[32m   1523\u001b[39m \u001b[38;5;28;01mdef\u001b[39;00m\u001b[38;5;250m \u001b[39m\u001b[34mnotify_change\u001b[39m(\u001b[38;5;28mself\u001b[39m, change: Bunch) -> \u001b[38;5;28;01mNone\u001b[39;00m:\n\u001b[32m   1524\u001b[39m \u001b[38;5;250m    \u001b[39m\u001b[33;03m\"\"\"Notify observers of a change event\"\"\"\u001b[39;00m\n\u001b[32m-> \u001b[39m\u001b[32m1525\u001b[39m     \u001b[38;5;28;01mreturn\u001b[39;00m \u001b[38;5;28;43mself\u001b[39;49m\u001b[43m.\u001b[49m\u001b[43m_notify_observers\u001b[49m\u001b[43m(\u001b[49m\u001b[43mchange\u001b[49m\u001b[43m)\u001b[49m\n",
      "\u001b[36mFile \u001b[39m\u001b[32m~/DevOh/project/private/project/space/workspace/geopandas/.venv/lib/python3.13/site-packages/traitlets/traitlets.py:1568\u001b[39m, in \u001b[36mHasTraits._notify_observers\u001b[39m\u001b[34m(self, event)\u001b[39m\n\u001b[32m   1565\u001b[39m \u001b[38;5;28;01melif\u001b[39;00m \u001b[38;5;28misinstance\u001b[39m(c, EventHandler) \u001b[38;5;129;01mand\u001b[39;00m c.name \u001b[38;5;129;01mis\u001b[39;00m \u001b[38;5;129;01mnot\u001b[39;00m \u001b[38;5;28;01mNone\u001b[39;00m:\n\u001b[32m   1566\u001b[39m     c = \u001b[38;5;28mgetattr\u001b[39m(\u001b[38;5;28mself\u001b[39m, c.name)\n\u001b[32m-> \u001b[39m\u001b[32m1568\u001b[39m \u001b[43mc\u001b[49m\u001b[43m(\u001b[49m\u001b[43mevent\u001b[49m\u001b[43m)\u001b[49m\n",
      "\u001b[36mFile \u001b[39m\u001b[32m~/DevOh/project/private/project/space/workspace/geopandas/.venv/lib/python3.13/site-packages/leafmap/toolbar.py:459\u001b[39m, in \u001b[36mmain_toolbar.<locals>.tool_callback\u001b[39m\u001b[34m(change)\u001b[39m\n\u001b[32m    457\u001b[39m     change_basemap(m)\n\u001b[32m    458\u001b[39m \u001b[38;5;28;01mif\u001b[39;00m tool_name == \u001b[33m\"\u001b[39m\u001b[33msplit_map\u001b[39m\u001b[33m\"\u001b[39m:\n\u001b[32m--> \u001b[39m\u001b[32m459\u001b[39m     \u001b[43msplit_basemaps\u001b[49m\u001b[43m(\u001b[49m\u001b[43mm\u001b[49m\u001b[43m)\u001b[49m\n\u001b[32m    460\u001b[39m \u001b[38;5;28;01mif\u001b[39;00m tool_name == \u001b[33m\"\u001b[39m\u001b[33mplanet\u001b[39m\u001b[33m\"\u001b[39m:\n\u001b[32m    461\u001b[39m     split_basemaps(m, layers_dict=planet_tiles())\n",
      "\u001b[36mFile \u001b[39m\u001b[32m~/DevOh/project/private/project/space/workspace/geopandas/.venv/lib/python3.13/site-packages/leafmap/toolbar.py:1741\u001b[39m, in \u001b[36msplit_basemaps\u001b[39m\u001b[34m(m, layers_dict, left_name, right_name, width, **kwargs)\u001b[39m\n\u001b[32m   1724\u001b[39m \u001b[38;5;28;01mdef\u001b[39;00m\u001b[38;5;250m \u001b[39m\u001b[34msplit_basemaps\u001b[39m(\n\u001b[32m   1725\u001b[39m     m,\n\u001b[32m   1726\u001b[39m     layers_dict: Optional[Dict] = \u001b[38;5;28;01mNone\u001b[39;00m,\n\u001b[32m   (...)\u001b[39m\u001b[32m   1730\u001b[39m     **kwargs,\n\u001b[32m   1731\u001b[39m ):\n\u001b[32m   1732\u001b[39m \u001b[38;5;250m    \u001b[39m\u001b[33;03m\"\"\"Create a split-panel map for visualizing two maps.\u001b[39;00m\n\u001b[32m   1733\u001b[39m \n\u001b[32m   1734\u001b[39m \u001b[33;03m    Args:\u001b[39;00m\n\u001b[32m   (...)\u001b[39m\u001b[32m   1739\u001b[39m \u001b[33;03m        width (str, optional): The width of the dropdown list. Defaults to \"120px\".\u001b[39;00m\n\u001b[32m   1740\u001b[39m \u001b[33;03m    \"\"\"\u001b[39;00m\n\u001b[32m-> \u001b[39m\u001b[32m1741\u001b[39m     \u001b[38;5;28;01mfrom\u001b[39;00m\u001b[38;5;250m \u001b[39m\u001b[34;01m.\u001b[39;00m\u001b[34;01mbasemaps\u001b[39;00m\u001b[38;5;250m \u001b[39m\u001b[38;5;28;01mimport\u001b[39;00m wms_tiles\n\u001b[32m   1742\u001b[39m     \u001b[38;5;28;01mfrom\u001b[39;00m\u001b[38;5;250m \u001b[39m\u001b[34;01m.\u001b[39;00m\u001b[34;01mleafmap\u001b[39;00m\u001b[38;5;250m \u001b[39m\u001b[38;5;28;01mimport\u001b[39;00m basemaps, get_basemap\n\u001b[32m   1744\u001b[39m     controls = m.controls\n",
      "\u001b[31mImportError\u001b[39m: cannot import name 'wms_tiles' from 'leafmap.basemaps' (/Users/dokeunoh/DevOh/project/private/project/space/workspace/geopandas/.venv/lib/python3.13/site-packages/leafmap/basemaps.py)"
     ]
    },
    {
     "ename": "ValueError",
     "evalue": "The Planet API Key must be provided.",
     "output_type": "error",
     "traceback": [
      "\u001b[31m---------------------------------------------------------------------------\u001b[39m",
      "\u001b[31mValueError\u001b[39m                                Traceback (most recent call last)",
      "\u001b[32m~/DevOh/project/private/project/space/workspace/geopandas/.venv/lib/python3.13/site-packages/ipywidgets/widgets/widget.py\u001b[39m in \u001b[36m?\u001b[39m\u001b[34m(self, *args, **kwargs)\u001b[39m\n\u001b[32m    224\u001b[39m             ip = get_ipython()\n\u001b[32m    225\u001b[39m             \u001b[38;5;28;01mif\u001b[39;00m ip \u001b[38;5;28;01mis\u001b[39;00m \u001b[38;5;28;01mNone\u001b[39;00m:\n\u001b[32m    226\u001b[39m                 self.log.warning(\u001b[33m\"Exception in widget method %s: %s\"\u001b[39m, method, e, exc_info=\u001b[38;5;28;01mTrue\u001b[39;00m)\n\u001b[32m    227\u001b[39m             \u001b[38;5;28;01melse\u001b[39;00m:\n\u001b[32m--> \u001b[39m\u001b[32m228\u001b[39m                 ip.showtraceback()\n",
      "\u001b[32m~/DevOh/project/private/project/space/workspace/geopandas/.venv/lib/python3.13/site-packages/ipywidgets/widgets/widget.py\u001b[39m in \u001b[36m?\u001b[39m\u001b[34m(self, msg)\u001b[39m\n\u001b[32m    769\u001b[39m             \u001b[38;5;28;01mif\u001b[39;00m \u001b[33m'state'\u001b[39m \u001b[38;5;28;01min\u001b[39;00m data:\n\u001b[32m    770\u001b[39m                 state = data[\u001b[33m'state'\u001b[39m]\n\u001b[32m    771\u001b[39m                 \u001b[38;5;28;01mif\u001b[39;00m \u001b[33m'buffer_paths'\u001b[39m \u001b[38;5;28;01min\u001b[39;00m data:\n\u001b[32m    772\u001b[39m                     _put_buffers(state, data[\u001b[33m'buffer_paths'\u001b[39m], msg[\u001b[33m'buffers'\u001b[39m])\n\u001b[32m--> \u001b[39m\u001b[32m773\u001b[39m                 self.set_state(state)\n\u001b[32m    774\u001b[39m \n\u001b[32m    775\u001b[39m         \u001b[38;5;66;03m# Handle a state request.\u001b[39;00m\n\u001b[32m    776\u001b[39m         \u001b[38;5;28;01melif\u001b[39;00m method == \u001b[33m'request_state'\u001b[39m:\n",
      "\u001b[32m~/DevOh/project/private/project/space/workspace/geopandas/.venv/lib/python3.13/site-packages/ipywidgets/widgets/widget.py\u001b[39m in \u001b[36m?\u001b[39m\u001b[34m(self, sync_data)\u001b[39m\n\u001b[32m    646\u001b[39m \n\u001b[32m    647\u001b[39m         \u001b[38;5;66;03m# The order of these context managers is important. Properties must\u001b[39;00m\n\u001b[32m    648\u001b[39m         \u001b[38;5;66;03m# be locked when the hold_trait_notification context manager is\u001b[39;00m\n\u001b[32m    649\u001b[39m         \u001b[38;5;66;03m# released and notifications are fired.\u001b[39;00m\n\u001b[32m--> \u001b[39m\u001b[32m650\u001b[39m         \u001b[38;5;28;01mwith\u001b[39;00m self._lock_property(**sync_data), self.hold_trait_notifications():\n\u001b[32m    651\u001b[39m             \u001b[38;5;28;01mfor\u001b[39;00m name \u001b[38;5;28;01min\u001b[39;00m sync_data:\n\u001b[32m    652\u001b[39m                 \u001b[38;5;28;01mif\u001b[39;00m name \u001b[38;5;28;01min\u001b[39;00m self.keys:\n\u001b[32m    653\u001b[39m                     from_json = self.trait_metadata(name, 'from_json',\n",
      "\u001b[32m/opt/homebrew/Cellar/python@3.13/3.13.5/Frameworks/Python.framework/Versions/3.13/lib/python3.13/contextlib.py\u001b[39m in \u001b[36m?\u001b[39m\u001b[34m(self, typ, value, traceback)\u001b[39m\n\u001b[32m    145\u001b[39m     \u001b[38;5;28;01mdef\u001b[39;00m __exit__(self, typ, value, traceback):\n\u001b[32m    146\u001b[39m         \u001b[38;5;28;01mif\u001b[39;00m typ \u001b[38;5;28;01mis\u001b[39;00m \u001b[38;5;28;01mNone\u001b[39;00m:\n\u001b[32m    147\u001b[39m             \u001b[38;5;28;01mtry\u001b[39;00m:\n\u001b[32m    148\u001b[39m                 next(self.gen)\n\u001b[32m--> \u001b[39m\u001b[32m149\u001b[39m             \u001b[38;5;28;01mexcept\u001b[39;00m StopIteration:\n\u001b[32m    150\u001b[39m                 \u001b[38;5;28;01mreturn\u001b[39;00m \u001b[38;5;28;01mFalse\u001b[39;00m\n\u001b[32m    151\u001b[39m             \u001b[38;5;28;01melse\u001b[39;00m:\n\u001b[32m    152\u001b[39m                 \u001b[38;5;28;01mtry\u001b[39;00m:\n",
      "\u001b[32m~/DevOh/project/private/project/space/workspace/geopandas/.venv/lib/python3.13/site-packages/traitlets/traitlets.py\u001b[39m in \u001b[36m?\u001b[39m\u001b[34m(self)\u001b[39m\n\u001b[32m   1506\u001b[39m \n\u001b[32m   1507\u001b[39m                 \u001b[38;5;66;03m# trigger delayed notifications\u001b[39;00m\n\u001b[32m   1508\u001b[39m                 \u001b[38;5;28;01mfor\u001b[39;00m changes \u001b[38;5;28;01min\u001b[39;00m cache.values():\n\u001b[32m   1509\u001b[39m                     \u001b[38;5;28;01mfor\u001b[39;00m change \u001b[38;5;28;01min\u001b[39;00m changes:\n\u001b[32m-> \u001b[39m\u001b[32m1510\u001b[39m                         self.notify_change(change)\n",
      "\u001b[32m~/DevOh/project/private/project/space/workspace/geopandas/.venv/lib/python3.13/site-packages/ipywidgets/widgets/widget.py\u001b[39m in \u001b[36m?\u001b[39m\u001b[34m(self, change)\u001b[39m\n\u001b[32m    697\u001b[39m             \u001b[38;5;66;03m# Make sure this isn't information that the front-end just sent us.\u001b[39;00m\n\u001b[32m    698\u001b[39m             \u001b[38;5;28;01mif\u001b[39;00m name \u001b[38;5;28;01min\u001b[39;00m self.keys \u001b[38;5;28;01mand\u001b[39;00m self._should_send_property(name, getattr(self, name)):\n\u001b[32m    699\u001b[39m                 \u001b[38;5;66;03m# Send new state to front-end\u001b[39;00m\n\u001b[32m    700\u001b[39m                 self.send_state(key=name)\n\u001b[32m--> \u001b[39m\u001b[32m701\u001b[39m         super().notify_change(change)\n",
      "\u001b[32m~/DevOh/project/private/project/space/workspace/geopandas/.venv/lib/python3.13/site-packages/traitlets/traitlets.py\u001b[39m in \u001b[36m?\u001b[39m\u001b[34m(self, change)\u001b[39m\n\u001b[32m   1523\u001b[39m     \u001b[38;5;28;01mdef\u001b[39;00m notify_change(self, change: Bunch) -> \u001b[38;5;28;01mNone\u001b[39;00m:\n\u001b[32m   1524\u001b[39m         \u001b[33m\"\"\"Notify observers of a change event\"\"\"\u001b[39m\n\u001b[32m-> \u001b[39m\u001b[32m1525\u001b[39m         \u001b[38;5;28;01mreturn\u001b[39;00m self._notify_observers(change)\n",
      "\u001b[32m~/DevOh/project/private/project/space/workspace/geopandas/.venv/lib/python3.13/site-packages/traitlets/traitlets.py\u001b[39m in \u001b[36m?\u001b[39m\u001b[34m(self, event)\u001b[39m\n\u001b[32m   1564\u001b[39m                 c = c.__call__\n\u001b[32m   1565\u001b[39m             \u001b[38;5;28;01melif\u001b[39;00m isinstance(c, EventHandler) \u001b[38;5;28;01mand\u001b[39;00m c.name \u001b[38;5;28;01mis\u001b[39;00m \u001b[38;5;28;01mnot\u001b[39;00m \u001b[38;5;28;01mNone\u001b[39;00m:\n\u001b[32m   1566\u001b[39m                 c = getattr(self, c.name)\n\u001b[32m   1567\u001b[39m \n\u001b[32m-> \u001b[39m\u001b[32m1568\u001b[39m             c(event)\n",
      "\u001b[32m~/DevOh/project/private/project/space/workspace/geopandas/.venv/lib/python3.13/site-packages/leafmap/toolbar.py\u001b[39m in \u001b[36m?\u001b[39m\u001b[34m(change)\u001b[39m\n\u001b[32m    457\u001b[39m                 change_basemap(m)\n\u001b[32m    458\u001b[39m             \u001b[38;5;28;01mif\u001b[39;00m tool_name == \u001b[33m\"split_map\"\u001b[39m:\n\u001b[32m    459\u001b[39m                 split_basemaps(m)\n\u001b[32m    460\u001b[39m             \u001b[38;5;28;01mif\u001b[39;00m tool_name == \u001b[33m\"planet\"\u001b[39m:\n\u001b[32m--> \u001b[39m\u001b[32m461\u001b[39m                 split_basemaps(m, layers_dict=planet_tiles())\n\u001b[32m    462\u001b[39m             \u001b[38;5;28;01melif\u001b[39;00m tool_name == \u001b[33m\"open_data\"\u001b[39m:\n\u001b[32m    463\u001b[39m                 open_data_widget(m)\n\u001b[32m    464\u001b[39m             \u001b[38;5;28;01melif\u001b[39;00m tool_name == \u001b[33m\"eraser\"\u001b[39m:\n",
      "\u001b[32m~/DevOh/project/private/project/space/workspace/geopandas/.venv/lib/python3.13/site-packages/leafmap/common.py\u001b[39m in \u001b[36m?\u001b[39m\u001b[34m(api_key, token_name, tile_format)\u001b[39m\n\u001b[32m   2233\u001b[39m         dict: A dictionary of TileLayer.\n\u001b[32m   2234\u001b[39m     \"\"\"\n\u001b[32m   2235\u001b[39m \n\u001b[32m   2236\u001b[39m     catalog = {}\n\u001b[32m-> \u001b[39m\u001b[32m2237\u001b[39m     quarterly = planet_quarterly_tiles(api_key, token_name, tile_format)\n\u001b[32m   2238\u001b[39m     monthly = planet_monthly_tiles(api_key, token_name, tile_format)\n\u001b[32m   2239\u001b[39m \n\u001b[32m   2240\u001b[39m     \u001b[38;5;28;01mfor\u001b[39;00m key \u001b[38;5;28;01min\u001b[39;00m quarterly:\n",
      "\u001b[32m~/DevOh/project/private/project/space/workspace/geopandas/.venv/lib/python3.13/site-packages/leafmap/common.py\u001b[39m in \u001b[36m?\u001b[39m\u001b[34m(api_key, token_name, tile_format)\u001b[39m\n\u001b[32m   2195\u001b[39m     \u001b[38;5;28;01mif\u001b[39;00m tile_format \u001b[38;5;28;01mnot\u001b[39;00m \u001b[38;5;28;01min\u001b[39;00m [\u001b[33m\"ipyleaflet\"\u001b[39m, \u001b[33m\"folium\"\u001b[39m]:\n\u001b[32m   2196\u001b[39m         \u001b[38;5;28;01mraise\u001b[39;00m ValueError(\u001b[33m\"The tile format must be either ipyleaflet or folium.\"\u001b[39m)\n\u001b[32m   2197\u001b[39m \n\u001b[32m   2198\u001b[39m     tiles = {}\n\u001b[32m-> \u001b[39m\u001b[32m2199\u001b[39m     links = planet_quarterly(api_key, token_name)\n\u001b[32m   2200\u001b[39m \n\u001b[32m   2201\u001b[39m     \u001b[38;5;28;01mfor\u001b[39;00m url \u001b[38;5;28;01min\u001b[39;00m links:\n\u001b[32m   2202\u001b[39m         index = url.find(\u001b[33m\"20\"\u001b[39m)\n",
      "\u001b[32m~/DevOh/project/private/project/space/workspace/geopandas/.venv/lib/python3.13/site-packages/leafmap/common.py\u001b[39m in \u001b[36m?\u001b[39m\u001b[34m(api_key, token_name)\u001b[39m\n\u001b[32m   2092\u001b[39m \n\u001b[32m   2093\u001b[39m     \u001b[38;5;28;01mif\u001b[39;00m api_key \u001b[38;5;28;01mis\u001b[39;00m \u001b[38;5;28;01mNone\u001b[39;00m:\n\u001b[32m   2094\u001b[39m         api_key = os.environ.get(token_name)\n\u001b[32m   2095\u001b[39m         \u001b[38;5;28;01mif\u001b[39;00m api_key \u001b[38;5;28;01mis\u001b[39;00m \u001b[38;5;28;01mNone\u001b[39;00m:\n\u001b[32m-> \u001b[39m\u001b[32m2096\u001b[39m             \u001b[38;5;28;01mraise\u001b[39;00m ValueError(\u001b[33m\"The Planet API Key must be provided.\"\u001b[39m)\n\u001b[32m   2097\u001b[39m \n\u001b[32m   2098\u001b[39m     today = date.today()\n\u001b[32m   2099\u001b[39m     year_now = int(today.strftime(\u001b[33m\"%Y\"\u001b[39m))\n",
      "\u001b[31mValueError\u001b[39m: The Planet API Key must be provided."
     ]
    }
   ],
   "source": [
    "m = leafmap.Map(center=[0, 0], zoom=2)"
   ]
  },
  {
   "cell_type": "code",
   "execution_count": 17,
   "id": "aad4d833",
   "metadata": {},
   "outputs": [
    {
     "data": {
      "application/vnd.jupyter.widget-view+json": {
       "model_id": "093a53badc3143f1a55e00c28ec1feae",
       "version_major": 2,
       "version_minor": 0
      },
      "text/plain": [
       "Map(center=[0, 0], controls=(ZoomControl(options=['position', 'zoom_in_text', 'zoom_in_title', 'zoom_out_text'…"
      ]
     },
     "execution_count": 17,
     "metadata": {},
     "output_type": "execute_result"
    }
   ],
   "source": [
    "m"
   ]
  },
  {
   "cell_type": "code",
   "execution_count": 18,
   "id": "32bc9393",
   "metadata": {},
   "outputs": [],
   "source": [
    "m.add_gdf(gdf, layer_name =\"Points\")"
   ]
  },
  {
   "cell_type": "code",
   "execution_count": 19,
   "id": "d8c2646d",
   "metadata": {},
   "outputs": [
    {
     "name": "stdout",
     "output_type": "stream",
     "text": [
      "OpenStreetMap has been already added before.\n"
     ]
    }
   ],
   "source": [
    "m.add_basemap(\"Esri.WorldImagery\")\n",
    "m.add_basemap(\"OpenStreetMap\")"
   ]
  },
  {
   "cell_type": "code",
   "execution_count": 20,
   "id": "278b1228",
   "metadata": {},
   "outputs": [
    {
     "data": {
      "text/html": [
       "<div>\n",
       "<style scoped>\n",
       "    .dataframe tbody tr th:only-of-type {\n",
       "        vertical-align: middle;\n",
       "    }\n",
       "\n",
       "    .dataframe tbody tr th {\n",
       "        vertical-align: top;\n",
       "    }\n",
       "\n",
       "    .dataframe thead th {\n",
       "        text-align: right;\n",
       "    }\n",
       "</style>\n",
       "<table border=\"1\" class=\"dataframe\">\n",
       "  <thead>\n",
       "    <tr style=\"text-align: right;\">\n",
       "      <th></th>\n",
       "      <th>Name</th>\n",
       "      <th>Population</th>\n",
       "      <th>Latitude</th>\n",
       "      <th>Longitude</th>\n",
       "      <th>geometry</th>\n",
       "    </tr>\n",
       "  </thead>\n",
       "  <tbody>\n",
       "    <tr>\n",
       "      <th>0</th>\n",
       "      <td>New York City</td>\n",
       "      <td>8419600</td>\n",
       "      <td>40.71280</td>\n",
       "      <td>-74.0060</td>\n",
       "      <td>POINT (-74.006 40.7128)</td>\n",
       "    </tr>\n",
       "    <tr>\n",
       "      <th>1</th>\n",
       "      <td>São Paulo</td>\n",
       "      <td>12325232</td>\n",
       "      <td>-23.55050</td>\n",
       "      <td>-46.6333</td>\n",
       "      <td>POINT (-46.6333 -23.5505)</td>\n",
       "    </tr>\n",
       "    <tr>\n",
       "      <th>2</th>\n",
       "      <td>Tokyo</td>\n",
       "      <td>13929286</td>\n",
       "      <td>35.68950</td>\n",
       "      <td>139.6917</td>\n",
       "      <td>POINT (139.6917 35.6895)</td>\n",
       "    </tr>\n",
       "    <tr>\n",
       "      <th>3</th>\n",
       "      <td>Lagos</td>\n",
       "      <td>15000000</td>\n",
       "      <td>6.52440</td>\n",
       "      <td>3.3792</td>\n",
       "      <td>POINT (3.3792 6.5244)</td>\n",
       "    </tr>\n",
       "    <tr>\n",
       "      <th>4</th>\n",
       "      <td>Sydney</td>\n",
       "      <td>53121631</td>\n",
       "      <td>-33.86881</td>\n",
       "      <td>151.2093</td>\n",
       "      <td>POINT (151.2093 -33.86881)</td>\n",
       "    </tr>\n",
       "  </tbody>\n",
       "</table>\n",
       "</div>"
      ],
      "text/plain": [
       "            Name  Population  Latitude  Longitude                    geometry\n",
       "0  New York City     8419600  40.71280   -74.0060     POINT (-74.006 40.7128)\n",
       "1      São Paulo    12325232 -23.55050   -46.6333   POINT (-46.6333 -23.5505)\n",
       "2          Tokyo    13929286  35.68950   139.6917    POINT (139.6917 35.6895)\n",
       "3          Lagos    15000000   6.52440     3.3792       POINT (3.3792 6.5244)\n",
       "4         Sydney    53121631 -33.86881   151.2093  POINT (151.2093 -33.86881)"
      ]
     },
     "execution_count": 20,
     "metadata": {},
     "output_type": "execute_result"
    }
   ],
   "source": [
    "gdf.head()"
   ]
  },
  {
   "cell_type": "code",
   "execution_count": 23,
   "id": "24a36c4a",
   "metadata": {},
   "outputs": [
    {
     "data": {
      "application/vnd.jupyter.widget-view+json": {
       "model_id": "e2c833adc7404f0995285bca2241b377",
       "version_major": 2,
       "version_minor": 0
      },
      "text/plain": [
       "Map(center=[0, 0], controls=(ZoomControl(options=['position', 'zoom_in_text', 'zoom_in_title', 'zoom_out_text'…"
      ]
     },
     "execution_count": 23,
     "metadata": {},
     "output_type": "execute_result"
    }
   ],
   "source": [
    "m = leafmap.Map(center=[0,0], zoom=2)\n",
    "m.add_gdf(gdf, layer_name=\"Points\", tooltip=['Name', 'Population'], popup_fields=['Name', 'Population'])\n",
    "m"
   ]
  },
  {
   "cell_type": "markdown",
   "id": "b1b1b9e6",
   "metadata": {},
   "source": [
    "### lonboard\n",
    "\n",
    "- https://developmentseed.org/lonboard/latest/examples/internet-speeds/#fetch-data\n",
    "- https://github.com/developmentseed/lonboard/blob/main/examples/internet-speeds.ipynb"
   ]
  },
  {
   "cell_type": "code",
   "execution_count": 29,
   "id": "671a8a15",
   "metadata": {},
   "outputs": [
    {
     "name": "stdout",
     "output_type": "stream",
     "text": [
      "Requirement already satisfied: lonboard in ./.venv/lib/python3.13/site-packages (0.11.1)\n",
      "Requirement already satisfied: palettable in ./.venv/lib/python3.13/site-packages (3.3.3)\n",
      "Requirement already satisfied: sidecar in ./.venv/lib/python3.13/site-packages (0.7.0)\n",
      "Collecting pyarrow\n",
      "  Downloading pyarrow-21.0.0-cp313-cp313-macosx_12_0_arm64.whl.metadata (3.3 kB)\n",
      "Collecting fastparquet\n",
      "  Downloading fastparquet-2024.11.0-cp313-cp313-macosx_11_0_arm64.whl.metadata (4.2 kB)\n",
      "Requirement already satisfied: anywidget~=0.9.0 in ./.venv/lib/python3.13/site-packages (from lonboard) (0.9.18)\n",
      "Requirement already satisfied: arro3-compute>=0.4.1 in ./.venv/lib/python3.13/site-packages (from lonboard) (0.6.1)\n",
      "Requirement already satisfied: arro3-core>=0.4.1 in ./.venv/lib/python3.13/site-packages (from lonboard) (0.6.1)\n",
      "Requirement already satisfied: arro3-io>=0.4.1 in ./.venv/lib/python3.13/site-packages (from lonboard) (0.6.1)\n",
      "Requirement already satisfied: ipywidgets>=7.6.0 in ./.venv/lib/python3.13/site-packages (from lonboard) (8.1.7)\n",
      "Requirement already satisfied: numpy>=1.14 in ./.venv/lib/python3.13/site-packages (from lonboard) (2.3.2)\n",
      "Requirement already satisfied: pyproj>=3.3 in ./.venv/lib/python3.13/site-packages (from lonboard) (3.7.2)\n",
      "Requirement already satisfied: traitlets>=5.7.1 in ./.venv/lib/python3.13/site-packages (from lonboard) (5.14.3)\n",
      "Requirement already satisfied: psygnal>=0.8.1 in ./.venv/lib/python3.13/site-packages (from anywidget~=0.9.0->lonboard) (0.14.1)\n",
      "Requirement already satisfied: typing-extensions>=4.2.0 in ./.venv/lib/python3.13/site-packages (from anywidget~=0.9.0->lonboard) (4.15.0)\n",
      "Requirement already satisfied: comm>=0.1.3 in ./.venv/lib/python3.13/site-packages (from ipywidgets>=7.6.0->lonboard) (0.2.3)\n",
      "Requirement already satisfied: ipython>=6.1.0 in ./.venv/lib/python3.13/site-packages (from ipywidgets>=7.6.0->lonboard) (9.5.0)\n",
      "Requirement already satisfied: widgetsnbextension~=4.0.14 in ./.venv/lib/python3.13/site-packages (from ipywidgets>=7.6.0->lonboard) (4.0.14)\n",
      "Requirement already satisfied: jupyterlab_widgets~=3.0.15 in ./.venv/lib/python3.13/site-packages (from ipywidgets>=7.6.0->lonboard) (3.0.15)\n",
      "Requirement already satisfied: pandas>=1.5.0 in ./.venv/lib/python3.13/site-packages (from fastparquet) (2.3.2)\n",
      "Collecting cramjam>=2.3 (from fastparquet)\n",
      "  Downloading cramjam-2.11.0-cp313-cp313-macosx_11_0_arm64.whl.metadata (5.6 kB)\n",
      "Collecting fsspec (from fastparquet)\n",
      "  Downloading fsspec-2025.7.0-py3-none-any.whl.metadata (12 kB)\n",
      "Requirement already satisfied: packaging in ./.venv/lib/python3.13/site-packages (from fastparquet) (25.0)\n",
      "Requirement already satisfied: decorator in ./.venv/lib/python3.13/site-packages (from ipython>=6.1.0->ipywidgets>=7.6.0->lonboard) (5.2.1)\n",
      "Requirement already satisfied: ipython-pygments-lexers in ./.venv/lib/python3.13/site-packages (from ipython>=6.1.0->ipywidgets>=7.6.0->lonboard) (1.1.1)\n",
      "Requirement already satisfied: jedi>=0.16 in ./.venv/lib/python3.13/site-packages (from ipython>=6.1.0->ipywidgets>=7.6.0->lonboard) (0.19.2)\n",
      "Requirement already satisfied: matplotlib-inline in ./.venv/lib/python3.13/site-packages (from ipython>=6.1.0->ipywidgets>=7.6.0->lonboard) (0.1.7)\n",
      "Requirement already satisfied: pexpect>4.3 in ./.venv/lib/python3.13/site-packages (from ipython>=6.1.0->ipywidgets>=7.6.0->lonboard) (4.9.0)\n",
      "Requirement already satisfied: prompt_toolkit<3.1.0,>=3.0.41 in ./.venv/lib/python3.13/site-packages (from ipython>=6.1.0->ipywidgets>=7.6.0->lonboard) (3.0.52)\n",
      "Requirement already satisfied: pygments>=2.4.0 in ./.venv/lib/python3.13/site-packages (from ipython>=6.1.0->ipywidgets>=7.6.0->lonboard) (2.19.2)\n",
      "Requirement already satisfied: stack_data in ./.venv/lib/python3.13/site-packages (from ipython>=6.1.0->ipywidgets>=7.6.0->lonboard) (0.6.3)\n",
      "Requirement already satisfied: wcwidth in ./.venv/lib/python3.13/site-packages (from prompt_toolkit<3.1.0,>=3.0.41->ipython>=6.1.0->ipywidgets>=7.6.0->lonboard) (0.2.13)\n",
      "Requirement already satisfied: parso<0.9.0,>=0.8.4 in ./.venv/lib/python3.13/site-packages (from jedi>=0.16->ipython>=6.1.0->ipywidgets>=7.6.0->lonboard) (0.8.5)\n",
      "Requirement already satisfied: python-dateutil>=2.8.2 in ./.venv/lib/python3.13/site-packages (from pandas>=1.5.0->fastparquet) (2.9.0.post0)\n",
      "Requirement already satisfied: pytz>=2020.1 in ./.venv/lib/python3.13/site-packages (from pandas>=1.5.0->fastparquet) (2025.2)\n",
      "Requirement already satisfied: tzdata>=2022.7 in ./.venv/lib/python3.13/site-packages (from pandas>=1.5.0->fastparquet) (2025.2)\n",
      "Requirement already satisfied: ptyprocess>=0.5 in ./.venv/lib/python3.13/site-packages (from pexpect>4.3->ipython>=6.1.0->ipywidgets>=7.6.0->lonboard) (0.7.0)\n",
      "Requirement already satisfied: certifi in ./.venv/lib/python3.13/site-packages (from pyproj>=3.3->lonboard) (2025.8.3)\n",
      "Requirement already satisfied: six>=1.5 in ./.venv/lib/python3.13/site-packages (from python-dateutil>=2.8.2->pandas>=1.5.0->fastparquet) (1.17.0)\n",
      "Requirement already satisfied: executing>=1.2.0 in ./.venv/lib/python3.13/site-packages (from stack_data->ipython>=6.1.0->ipywidgets>=7.6.0->lonboard) (2.2.0)\n",
      "Requirement already satisfied: asttokens>=2.1.0 in ./.venv/lib/python3.13/site-packages (from stack_data->ipython>=6.1.0->ipywidgets>=7.6.0->lonboard) (3.0.0)\n",
      "Requirement already satisfied: pure-eval in ./.venv/lib/python3.13/site-packages (from stack_data->ipython>=6.1.0->ipywidgets>=7.6.0->lonboard) (0.2.3)\n",
      "Downloading pyarrow-21.0.0-cp313-cp313-macosx_12_0_arm64.whl (31.2 MB)\n",
      "\u001b[2K   \u001b[90m━━━━━━━━━━━━━━━━━━━━━━━━━━━━━━━━━━━━━━━━\u001b[0m \u001b[32m31.2/31.2 MB\u001b[0m \u001b[31m31.1 MB/s\u001b[0m  \u001b[33m0:00:01\u001b[0mm0:00:01\u001b[0m00:01\u001b[0m\n",
      "\u001b[?25hDownloading fastparquet-2024.11.0-cp313-cp313-macosx_11_0_arm64.whl (683 kB)\n",
      "\u001b[2K   \u001b[90m━━━━━━━━━━━━━━━━━━━━━━━━━━━━━━━━━━━━━━━━\u001b[0m \u001b[32m683.8/683.8 kB\u001b[0m \u001b[31m16.8 MB/s\u001b[0m  \u001b[33m0:00:00\u001b[0m\n",
      "\u001b[?25hDownloading cramjam-2.11.0-cp313-cp313-macosx_11_0_arm64.whl (1.7 MB)\n",
      "\u001b[2K   \u001b[90m━━━━━━━━━━━━━━━━━━━━━━━━━━━━━━━━━━━━━━━━\u001b[0m \u001b[32m1.7/1.7 MB\u001b[0m \u001b[31m21.5 MB/s\u001b[0m  \u001b[33m0:00:00\u001b[0m\n",
      "\u001b[?25hDownloading fsspec-2025.7.0-py3-none-any.whl (199 kB)\n",
      "Installing collected packages: pyarrow, fsspec, cramjam, fastparquet\n",
      "\u001b[2K   \u001b[90m━━━━━━━━━━━━━━━━━━━━━━━━━━━━━━━━━━━━━━━━\u001b[0m \u001b[32m4/4\u001b[0m [fastparquet]\u001b[0m [fsspec]\n",
      "\u001b[1A\u001b[2KSuccessfully installed cramjam-2.11.0 fastparquet-2024.11.0 fsspec-2025.7.0 pyarrow-21.0.0\n",
      "Note: you may need to restart the kernel to use updated packages.\n"
     ]
    }
   ],
   "source": [
    "pip install lonboard palettable sidecar pyarrow fastparquet"
   ]
  },
  {
   "cell_type": "code",
   "execution_count": 35,
   "id": "c8ade9ac",
   "metadata": {},
   "outputs": [],
   "source": [
    "from pathlib import Path\n",
    "\n",
    "import geopandas as gpd\n",
    "import pandas as pd\n",
    "import shapely\n",
    "from palettable.colorbrewer.diverging import BrBG_10\n",
    "from sidecar import Sidecar\n",
    "\n",
    "from lonboard import Map, ScatterplotLayer\n",
    "from lonboard.colormap import apply_continuous_cmap"
   ]
  },
  {
   "cell_type": "code",
   "execution_count": 36,
   "id": "4a8f9b83",
   "metadata": {},
   "outputs": [],
   "source": [
    "url = \"https://ookla-open-data.s3.us-west-2.amazonaws.com/parquet/performance/type=mobile/year=2019/quarter=1/2019-01-01_performance_mobile_tiles.parquet\"\n"
   ]
  },
  {
   "cell_type": "code",
   "execution_count": 37,
   "id": "7fb2d34c",
   "metadata": {},
   "outputs": [
    {
     "ename": "ArrowKeyError",
     "evalue": "A type extension with name pandas.period already defined",
     "output_type": "error",
     "traceback": [
      "\u001b[31m---------------------------------------------------------------------------\u001b[39m",
      "\u001b[31mArrowKeyError\u001b[39m                             Traceback (most recent call last)",
      "\u001b[36mCell\u001b[39m\u001b[36m \u001b[39m\u001b[32mIn[37]\u001b[39m\u001b[32m, line 6\u001b[39m\n\u001b[32m      4\u001b[39m \u001b[38;5;28;01melse\u001b[39;00m:\n\u001b[32m      5\u001b[39m     columns = [\u001b[33m\"\u001b[39m\u001b[33mavg_d_kbps\u001b[39m\u001b[33m\"\u001b[39m, \u001b[33m\"\u001b[39m\u001b[33mtile\u001b[39m\u001b[33m\"\u001b[39m]\n\u001b[32m----> \u001b[39m\u001b[32m6\u001b[39m     df = \u001b[43mpd\u001b[49m\u001b[43m.\u001b[49m\u001b[43mread_parquet\u001b[49m\u001b[43m(\u001b[49m\u001b[43murl\u001b[49m\u001b[43m,\u001b[49m\u001b[43m \u001b[49m\u001b[43mcolumns\u001b[49m\u001b[43m=\u001b[49m\u001b[43mcolumns\u001b[49m\u001b[43m)\u001b[49m\n\u001b[32m      8\u001b[39m     tile_geometries = shapely.from_wkt(df[\u001b[33m\"\u001b[39m\u001b[33mtile\u001b[39m\u001b[33m\"\u001b[39m])\n\u001b[32m      9\u001b[39m     tile_centroids = shapely.centroid(tile_geometries)\n",
      "\u001b[36mFile \u001b[39m\u001b[32m~/DevOh/project/private/project/space/workspace/geopandas/.venv/lib/python3.13/site-packages/pandas/io/parquet.py:653\u001b[39m, in \u001b[36mread_parquet\u001b[39m\u001b[34m(path, engine, columns, storage_options, use_nullable_dtypes, dtype_backend, filesystem, filters, **kwargs)\u001b[39m\n\u001b[32m    500\u001b[39m \u001b[38;5;129m@doc\u001b[39m(storage_options=_shared_docs[\u001b[33m\"\u001b[39m\u001b[33mstorage_options\u001b[39m\u001b[33m\"\u001b[39m])\n\u001b[32m    501\u001b[39m \u001b[38;5;28;01mdef\u001b[39;00m\u001b[38;5;250m \u001b[39m\u001b[34mread_parquet\u001b[39m(\n\u001b[32m    502\u001b[39m     path: FilePath | ReadBuffer[\u001b[38;5;28mbytes\u001b[39m],\n\u001b[32m   (...)\u001b[39m\u001b[32m    510\u001b[39m     **kwargs,\n\u001b[32m    511\u001b[39m ) -> DataFrame:\n\u001b[32m    512\u001b[39m \u001b[38;5;250m    \u001b[39m\u001b[33;03m\"\"\"\u001b[39;00m\n\u001b[32m    513\u001b[39m \u001b[33;03m    Load a parquet object from the file path, returning a DataFrame.\u001b[39;00m\n\u001b[32m    514\u001b[39m \n\u001b[32m   (...)\u001b[39m\u001b[32m    650\u001b[39m \u001b[33;03m    1    4    9\u001b[39;00m\n\u001b[32m    651\u001b[39m \u001b[33;03m    \"\"\"\u001b[39;00m\n\u001b[32m--> \u001b[39m\u001b[32m653\u001b[39m     impl = \u001b[43mget_engine\u001b[49m\u001b[43m(\u001b[49m\u001b[43mengine\u001b[49m\u001b[43m)\u001b[49m\n\u001b[32m    655\u001b[39m     \u001b[38;5;28;01mif\u001b[39;00m use_nullable_dtypes \u001b[38;5;129;01mis\u001b[39;00m \u001b[38;5;129;01mnot\u001b[39;00m lib.no_default:\n\u001b[32m    656\u001b[39m         msg = (\n\u001b[32m    657\u001b[39m             \u001b[33m\"\u001b[39m\u001b[33mThe argument \u001b[39m\u001b[33m'\u001b[39m\u001b[33muse_nullable_dtypes\u001b[39m\u001b[33m'\u001b[39m\u001b[33m is deprecated and will be removed \u001b[39m\u001b[33m\"\u001b[39m\n\u001b[32m    658\u001b[39m             \u001b[33m\"\u001b[39m\u001b[33min a future version.\u001b[39m\u001b[33m\"\u001b[39m\n\u001b[32m    659\u001b[39m         )\n",
      "\u001b[36mFile \u001b[39m\u001b[32m~/DevOh/project/private/project/space/workspace/geopandas/.venv/lib/python3.13/site-packages/pandas/io/parquet.py:64\u001b[39m, in \u001b[36mget_engine\u001b[39m\u001b[34m(engine)\u001b[39m\n\u001b[32m     62\u001b[39m \u001b[38;5;28;01mfor\u001b[39;00m engine_class \u001b[38;5;129;01min\u001b[39;00m engine_classes:\n\u001b[32m     63\u001b[39m     \u001b[38;5;28;01mtry\u001b[39;00m:\n\u001b[32m---> \u001b[39m\u001b[32m64\u001b[39m         \u001b[38;5;28;01mreturn\u001b[39;00m \u001b[43mengine_class\u001b[49m\u001b[43m(\u001b[49m\u001b[43m)\u001b[49m\n\u001b[32m     65\u001b[39m     \u001b[38;5;28;01mexcept\u001b[39;00m \u001b[38;5;167;01mImportError\u001b[39;00m \u001b[38;5;28;01mas\u001b[39;00m err:\n\u001b[32m     66\u001b[39m         error_msgs += \u001b[33m\"\u001b[39m\u001b[38;5;130;01m\\n\u001b[39;00m\u001b[33m - \u001b[39m\u001b[33m\"\u001b[39m + \u001b[38;5;28mstr\u001b[39m(err)\n",
      "\u001b[36mFile \u001b[39m\u001b[32m~/DevOh/project/private/project/space/workspace/geopandas/.venv/lib/python3.13/site-packages/pandas/io/parquet.py:170\u001b[39m, in \u001b[36mPyArrowImpl.__init__\u001b[39m\u001b[34m(self)\u001b[39m\n\u001b[32m    167\u001b[39m \u001b[38;5;28;01mimport\u001b[39;00m\u001b[38;5;250m \u001b[39m\u001b[34;01mpyarrow\u001b[39;00m\u001b[34;01m.\u001b[39;00m\u001b[34;01mparquet\u001b[39;00m\n\u001b[32m    169\u001b[39m \u001b[38;5;66;03m# import utils to register the pyarrow extension types\u001b[39;00m\n\u001b[32m--> \u001b[39m\u001b[32m170\u001b[39m \u001b[38;5;28;01mimport\u001b[39;00m\u001b[38;5;250m \u001b[39m\u001b[34;01mpandas\u001b[39;00m\u001b[34;01m.\u001b[39;00m\u001b[34;01mcore\u001b[39;00m\u001b[34;01m.\u001b[39;00m\u001b[34;01marrays\u001b[39;00m\u001b[34;01m.\u001b[39;00m\u001b[34;01marrow\u001b[39;00m\u001b[34;01m.\u001b[39;00m\u001b[34;01mextension_types\u001b[39;00m  \u001b[38;5;66;03m# pyright: ignore[reportUnusedImport] # noqa: F401\u001b[39;00m\n\u001b[32m    172\u001b[39m \u001b[38;5;28mself\u001b[39m.api = pyarrow\n",
      "\u001b[36mFile \u001b[39m\u001b[32m~/DevOh/project/private/project/space/workspace/geopandas/.venv/lib/python3.13/site-packages/pandas/core/arrays/arrow/extension_types.py:59\u001b[39m\n\u001b[32m     57\u001b[39m \u001b[38;5;66;03m# register the type with a dummy instance\u001b[39;00m\n\u001b[32m     58\u001b[39m _period_type = ArrowPeriodType(\u001b[33m\"\u001b[39m\u001b[33mD\u001b[39m\u001b[33m\"\u001b[39m)\n\u001b[32m---> \u001b[39m\u001b[32m59\u001b[39m \u001b[43mpyarrow\u001b[49m\u001b[43m.\u001b[49m\u001b[43mregister_extension_type\u001b[49m\u001b[43m(\u001b[49m\u001b[43m_period_type\u001b[49m\u001b[43m)\u001b[49m\n\u001b[32m     62\u001b[39m \u001b[38;5;28;01mclass\u001b[39;00m\u001b[38;5;250m \u001b[39m\u001b[34;01mArrowIntervalType\u001b[39;00m(pyarrow.ExtensionType):\n\u001b[32m     63\u001b[39m     \u001b[38;5;28;01mdef\u001b[39;00m\u001b[38;5;250m \u001b[39m\u001b[34m__init__\u001b[39m(\u001b[38;5;28mself\u001b[39m, subtype, closed: IntervalClosedType) -> \u001b[38;5;28;01mNone\u001b[39;00m:\n\u001b[32m     64\u001b[39m         \u001b[38;5;66;03m# attributes need to be set first before calling\u001b[39;00m\n\u001b[32m     65\u001b[39m         \u001b[38;5;66;03m# super init (as that calls serialize)\u001b[39;00m\n",
      "\u001b[36mFile \u001b[39m\u001b[32m~/DevOh/project/private/project/space/workspace/geopandas/.venv/lib/python3.13/site-packages/pyarrow/types.pxi:2226\u001b[39m, in \u001b[36mpyarrow.lib.register_extension_type\u001b[39m\u001b[34m()\u001b[39m\n",
      "\u001b[36mFile \u001b[39m\u001b[32m~/DevOh/project/private/project/space/workspace/geopandas/.venv/lib/python3.13/site-packages/pyarrow/error.pxi:92\u001b[39m, in \u001b[36mpyarrow.lib.check_status\u001b[39m\u001b[34m()\u001b[39m\n",
      "\u001b[31mArrowKeyError\u001b[39m: A type extension with name pandas.period already defined"
     ]
    }
   ],
   "source": [
    "local_path = Path(\"internet-speeds.parquet\")\n",
    "if local_path.exists():\n",
    "    gdf = gpd.read_parquet(local_path)\n",
    "else:\n",
    "    columns = [\"avg_d_kbps\", \"tile\"]\n",
    "    df = pd.read_parquet(url, columns=columns)\n",
    "\n",
    "    tile_geometries = shapely.from_wkt(df[\"tile\"])\n",
    "    tile_centroids = shapely.centroid(tile_geometries)\n",
    "    gdf = gpd.GeoDataFrame(df[[\"avg_d_kbps\"]], geometry=tile_centroids, crs=\"EPSG:4326\")\n",
    "    gdf.to_parquet(local_path)"
   ]
  },
  {
   "cell_type": "code",
   "execution_count": 32,
   "id": "bbbb355b",
   "metadata": {},
   "outputs": [
    {
     "data": {
      "text/html": [
       "<div>\n",
       "<style scoped>\n",
       "    .dataframe tbody tr th:only-of-type {\n",
       "        vertical-align: middle;\n",
       "    }\n",
       "\n",
       "    .dataframe tbody tr th {\n",
       "        vertical-align: top;\n",
       "    }\n",
       "\n",
       "    .dataframe thead th {\n",
       "        text-align: right;\n",
       "    }\n",
       "</style>\n",
       "<table border=\"1\" class=\"dataframe\">\n",
       "  <thead>\n",
       "    <tr style=\"text-align: right;\">\n",
       "      <th></th>\n",
       "      <th>Name</th>\n",
       "      <th>Population</th>\n",
       "      <th>Latitude</th>\n",
       "      <th>Longitude</th>\n",
       "      <th>geometry</th>\n",
       "    </tr>\n",
       "  </thead>\n",
       "  <tbody>\n",
       "    <tr>\n",
       "      <th>0</th>\n",
       "      <td>New York City</td>\n",
       "      <td>8419600</td>\n",
       "      <td>40.71280</td>\n",
       "      <td>-74.0060</td>\n",
       "      <td>POINT (-74.006 40.7128)</td>\n",
       "    </tr>\n",
       "    <tr>\n",
       "      <th>1</th>\n",
       "      <td>São Paulo</td>\n",
       "      <td>12325232</td>\n",
       "      <td>-23.55050</td>\n",
       "      <td>-46.6333</td>\n",
       "      <td>POINT (-46.6333 -23.5505)</td>\n",
       "    </tr>\n",
       "    <tr>\n",
       "      <th>2</th>\n",
       "      <td>Tokyo</td>\n",
       "      <td>13929286</td>\n",
       "      <td>35.68950</td>\n",
       "      <td>139.6917</td>\n",
       "      <td>POINT (139.6917 35.6895)</td>\n",
       "    </tr>\n",
       "    <tr>\n",
       "      <th>3</th>\n",
       "      <td>Lagos</td>\n",
       "      <td>15000000</td>\n",
       "      <td>6.52440</td>\n",
       "      <td>3.3792</td>\n",
       "      <td>POINT (3.3792 6.5244)</td>\n",
       "    </tr>\n",
       "    <tr>\n",
       "      <th>4</th>\n",
       "      <td>Sydney</td>\n",
       "      <td>53121631</td>\n",
       "      <td>-33.86881</td>\n",
       "      <td>151.2093</td>\n",
       "      <td>POINT (151.2093 -33.86881)</td>\n",
       "    </tr>\n",
       "  </tbody>\n",
       "</table>\n",
       "</div>"
      ],
      "text/plain": [
       "            Name  Population  Latitude  Longitude                    geometry\n",
       "0  New York City     8419600  40.71280   -74.0060     POINT (-74.006 40.7128)\n",
       "1      São Paulo    12325232 -23.55050   -46.6333   POINT (-46.6333 -23.5505)\n",
       "2          Tokyo    13929286  35.68950   139.6917    POINT (139.6917 35.6895)\n",
       "3          Lagos    15000000   6.52440     3.3792       POINT (3.3792 6.5244)\n",
       "4         Sydney    53121631 -33.86881   151.2093  POINT (151.2093 -33.86881)"
      ]
     },
     "execution_count": 32,
     "metadata": {},
     "output_type": "execute_result"
    }
   ],
   "source": [
    "gdf.head()\n"
   ]
  },
  {
   "cell_type": "code",
   "execution_count": 33,
   "id": "aab80f34",
   "metadata": {},
   "outputs": [],
   "source": [
    "sidecar = Sidecar()"
   ]
  },
  {
   "cell_type": "code",
   "execution_count": 34,
   "id": "8de40ad8",
   "metadata": {},
   "outputs": [
    {
     "ename": "NameError",
     "evalue": "name 'ArrowDtype' is not defined",
     "output_type": "error",
     "traceback": [
      "\u001b[31m---------------------------------------------------------------------------\u001b[39m",
      "\u001b[31mNameError\u001b[39m                                 Traceback (most recent call last)",
      "\u001b[36mCell\u001b[39m\u001b[36m \u001b[39m\u001b[32mIn[34]\u001b[39m\u001b[32m, line 1\u001b[39m\n\u001b[32m----> \u001b[39m\u001b[32m1\u001b[39m layer = \u001b[43mScatterplotLayer\u001b[49m\u001b[43m.\u001b[49m\u001b[43mfrom_geopandas\u001b[49m\u001b[43m(\u001b[49m\u001b[43mgdf\u001b[49m\u001b[43m)\u001b[49m\n\u001b[32m      2\u001b[39m m = Map(layer, _height=\u001b[32m800\u001b[39m)\n\u001b[32m      3\u001b[39m \u001b[38;5;28;01mwith\u001b[39;00m sidecar:\n",
      "\u001b[36mFile \u001b[39m\u001b[32m~/DevOh/project/private/project/space/workspace/geopandas/.venv/lib/python3.13/site-packages/lonboard/_layer.py:1326\u001b[39m, in \u001b[36mScatterplotLayer.from_geopandas\u001b[39m\u001b[34m(cls, gdf, auto_downcast, **kwargs)\u001b[39m\n\u001b[32m   1318\u001b[39m \u001b[38;5;129m@classmethod\u001b[39m\n\u001b[32m   1319\u001b[39m \u001b[38;5;28;01mdef\u001b[39;00m\u001b[38;5;250m \u001b[39m\u001b[34mfrom_geopandas\u001b[39m(\n\u001b[32m   1320\u001b[39m     \u001b[38;5;28mcls\u001b[39m,\n\u001b[32m   (...)\u001b[39m\u001b[32m   1324\u001b[39m     **kwargs: Unpack[ScatterplotLayerKwargs],\n\u001b[32m   1325\u001b[39m ) -> Self:\n\u001b[32m-> \u001b[39m\u001b[32m1326\u001b[39m     \u001b[38;5;28;01mreturn\u001b[39;00m \u001b[38;5;28;43msuper\u001b[39;49m\u001b[43m(\u001b[49m\u001b[43m)\u001b[49m\u001b[43m.\u001b[49m\u001b[43mfrom_geopandas\u001b[49m\u001b[43m(\u001b[49m\u001b[43mgdf\u001b[49m\u001b[43m=\u001b[49m\u001b[43mgdf\u001b[49m\u001b[43m,\u001b[49m\u001b[43m \u001b[49m\u001b[43mauto_downcast\u001b[49m\u001b[43m=\u001b[49m\u001b[43mauto_downcast\u001b[49m\u001b[43m,\u001b[49m\u001b[43m \u001b[49m\u001b[43m*\u001b[49m\u001b[43m*\u001b[49m\u001b[43mkwargs\u001b[49m\u001b[43m)\u001b[49m\n",
      "\u001b[36mFile \u001b[39m\u001b[32m~/DevOh/project/private/project/space/workspace/geopandas/.venv/lib/python3.13/site-packages/lonboard/_layer.py:421\u001b[39m, in \u001b[36mBaseArrowLayer.from_geopandas\u001b[39m\u001b[34m(cls, gdf, auto_downcast, **kwargs)\u001b[39m\n\u001b[32m    400\u001b[39m \u001b[38;5;250m\u001b[39m\u001b[33;03m\"\"\"Construct a Layer from a geopandas GeoDataFrame.\u001b[39;00m\n\u001b[32m    401\u001b[39m \n\u001b[32m    402\u001b[39m \u001b[33;03mThe GeoDataFrame will be reprojected to `EPSG:4326` if it is not already in that\u001b[39;00m\n\u001b[32m   (...)\u001b[39m\u001b[32m    417\u001b[39m \n\u001b[32m    418\u001b[39m \u001b[33;03m\"\"\"\u001b[39;00m\n\u001b[32m    419\u001b[39m \u001b[38;5;28;01mif\u001b[39;00m auto_downcast:\n\u001b[32m    420\u001b[39m     \u001b[38;5;66;03m# Note: we don't deep copy because we don't need to clone geometries\u001b[39;00m\n\u001b[32m--> \u001b[39m\u001b[32m421\u001b[39m     gdf = \u001b[43m_auto_downcast\u001b[49m\u001b[43m(\u001b[49m\u001b[43mgdf\u001b[49m\u001b[43m.\u001b[49m\u001b[43mcopy\u001b[49m\u001b[43m(\u001b[49m\u001b[43m)\u001b[49m\u001b[43m)\u001b[49m  \u001b[38;5;66;03m# type: ignore\u001b[39;00m\n\u001b[32m    423\u001b[39m table = geopandas_to_geoarrow(gdf)\n\u001b[32m    424\u001b[39m \u001b[38;5;28;01mreturn\u001b[39;00m \u001b[38;5;28mcls\u001b[39m(table=table, **kwargs)\n",
      "\u001b[36mFile \u001b[39m\u001b[32m~/DevOh/project/private/project/space/workspace/geopandas/.venv/lib/python3.13/site-packages/lonboard/_utils.py:66\u001b[39m, in \u001b[36mauto_downcast\u001b[39m\u001b[34m(df)\u001b[39m\n\u001b[32m     59\u001b[39m check_pandas_version()\n\u001b[32m     61\u001b[39m \u001b[38;5;66;03m# Convert objects to numeric types where possible.\u001b[39;00m\n\u001b[32m     62\u001b[39m \u001b[38;5;66;03m# Note: we have to exclude geometry because\u001b[39;00m\n\u001b[32m     63\u001b[39m \u001b[38;5;66;03m# `convert_dtypes(dtype_backend=\"pyarrow\")` fails on the geometory column, but we\u001b[39;00m\n\u001b[32m     64\u001b[39m \u001b[38;5;66;03m# also have to manually cast to a non-geo data frame because it'll fail to convert\u001b[39;00m\n\u001b[32m     65\u001b[39m \u001b[38;5;66;03m# dtypes on a GeoDataFrame without a geom col\u001b[39;00m\n\u001b[32m---> \u001b[39m\u001b[32m66\u001b[39m casted_df = \u001b[43mpd\u001b[49m\u001b[43m.\u001b[49m\u001b[43mDataFrame\u001b[49m\u001b[43m(\u001b[49m\u001b[43mdf\u001b[49m\u001b[43m.\u001b[49m\u001b[43mselect_dtypes\u001b[49m\u001b[43m(\u001b[49m\u001b[43mexclude\u001b[49m\u001b[43m=\u001b[49m\u001b[33;43m\"\u001b[39;49m\u001b[33;43mgeometry\u001b[39;49m\u001b[33;43m\"\u001b[39;49m\u001b[43m)\u001b[49m\u001b[43m)\u001b[49m\u001b[43m.\u001b[49m\u001b[43mconvert_dtypes\u001b[49m\u001b[43m(\u001b[49m\u001b[43m  \u001b[49m\u001b[38;5;66;43;03m# type: ignore\u001b[39;49;00m\n\u001b[32m     67\u001b[39m \u001b[43m    \u001b[49m\u001b[43minfer_objects\u001b[49m\u001b[43m=\u001b[49m\u001b[38;5;28;43;01mTrue\u001b[39;49;00m\u001b[43m,\u001b[49m\n\u001b[32m     68\u001b[39m \u001b[43m    \u001b[49m\u001b[43mconvert_string\u001b[49m\u001b[43m=\u001b[49m\u001b[38;5;28;43;01mTrue\u001b[39;49;00m\u001b[43m,\u001b[49m\n\u001b[32m     69\u001b[39m \u001b[43m    \u001b[49m\u001b[43mconvert_integer\u001b[49m\u001b[43m=\u001b[49m\u001b[38;5;28;43;01mTrue\u001b[39;49;00m\u001b[43m,\u001b[49m\n\u001b[32m     70\u001b[39m \u001b[43m    \u001b[49m\u001b[43mconvert_boolean\u001b[49m\u001b[43m=\u001b[49m\u001b[38;5;28;43;01mTrue\u001b[39;49;00m\u001b[43m,\u001b[49m\n\u001b[32m     71\u001b[39m \u001b[43m    \u001b[49m\u001b[43mconvert_floating\u001b[49m\u001b[43m=\u001b[49m\u001b[38;5;28;43;01mTrue\u001b[39;49;00m\u001b[43m,\u001b[49m\n\u001b[32m     72\u001b[39m \u001b[43m    \u001b[49m\u001b[43mdtype_backend\u001b[49m\u001b[43m=\u001b[49m\u001b[33;43m\"\u001b[39;49m\u001b[33;43mpyarrow\u001b[39;49m\u001b[33;43m\"\u001b[39;49m\u001b[43m,\u001b[49m\n\u001b[32m     73\u001b[39m \u001b[43m\u001b[49m\u001b[43m)\u001b[49m\n\u001b[32m     74\u001b[39m df[casted_df.columns] = casted_df\n\u001b[32m     76\u001b[39m \u001b[38;5;66;03m# Try to convert _all_ integer columns to unsigned integer columns, but use\u001b[39;00m\n\u001b[32m     77\u001b[39m \u001b[38;5;66;03m# errors='ignore' to return signed integer data types for columns with negative\u001b[39;00m\n\u001b[32m     78\u001b[39m \u001b[38;5;66;03m# integers.\u001b[39;00m\n",
      "\u001b[36mFile \u001b[39m\u001b[32m~/DevOh/project/private/project/space/workspace/geopandas/.venv/lib/python3.13/site-packages/pandas/core/generic.py:7050\u001b[39m, in \u001b[36mNDFrame.convert_dtypes\u001b[39m\u001b[34m(self, infer_objects, convert_string, convert_integer, convert_boolean, convert_floating, dtype_backend)\u001b[39m\n\u001b[32m   6921\u001b[39m \u001b[38;5;250m\u001b[39m\u001b[33;03m\"\"\"\u001b[39;00m\n\u001b[32m   6922\u001b[39m \u001b[33;03mConvert columns to the best possible dtypes using dtypes supporting ``pd.NA``.\u001b[39;00m\n\u001b[32m   6923\u001b[39m \n\u001b[32m   (...)\u001b[39m\u001b[32m   7047\u001b[39m \u001b[33;03mdtype: string\u001b[39;00m\n\u001b[32m   7048\u001b[39m \u001b[33;03m\"\"\"\u001b[39;00m\n\u001b[32m   7049\u001b[39m check_dtype_backend(dtype_backend)\n\u001b[32m-> \u001b[39m\u001b[32m7050\u001b[39m new_mgr = \u001b[38;5;28;43mself\u001b[39;49m\u001b[43m.\u001b[49m\u001b[43m_mgr\u001b[49m\u001b[43m.\u001b[49m\u001b[43mconvert_dtypes\u001b[49m\u001b[43m(\u001b[49m\u001b[43m  \u001b[49m\u001b[38;5;66;43;03m# type: ignore[union-attr]\u001b[39;49;00m\n\u001b[32m   7051\u001b[39m \u001b[43m    \u001b[49m\u001b[43minfer_objects\u001b[49m\u001b[43m=\u001b[49m\u001b[43minfer_objects\u001b[49m\u001b[43m,\u001b[49m\n\u001b[32m   7052\u001b[39m \u001b[43m    \u001b[49m\u001b[43mconvert_string\u001b[49m\u001b[43m=\u001b[49m\u001b[43mconvert_string\u001b[49m\u001b[43m,\u001b[49m\n\u001b[32m   7053\u001b[39m \u001b[43m    \u001b[49m\u001b[43mconvert_integer\u001b[49m\u001b[43m=\u001b[49m\u001b[43mconvert_integer\u001b[49m\u001b[43m,\u001b[49m\n\u001b[32m   7054\u001b[39m \u001b[43m    \u001b[49m\u001b[43mconvert_boolean\u001b[49m\u001b[43m=\u001b[49m\u001b[43mconvert_boolean\u001b[49m\u001b[43m,\u001b[49m\n\u001b[32m   7055\u001b[39m \u001b[43m    \u001b[49m\u001b[43mconvert_floating\u001b[49m\u001b[43m=\u001b[49m\u001b[43mconvert_floating\u001b[49m\u001b[43m,\u001b[49m\n\u001b[32m   7056\u001b[39m \u001b[43m    \u001b[49m\u001b[43mdtype_backend\u001b[49m\u001b[43m=\u001b[49m\u001b[43mdtype_backend\u001b[49m\u001b[43m,\u001b[49m\n\u001b[32m   7057\u001b[39m \u001b[43m\u001b[49m\u001b[43m)\u001b[49m\n\u001b[32m   7058\u001b[39m res = \u001b[38;5;28mself\u001b[39m._constructor_from_mgr(new_mgr, axes=new_mgr.axes)\n\u001b[32m   7059\u001b[39m \u001b[38;5;28;01mreturn\u001b[39;00m res.__finalize__(\u001b[38;5;28mself\u001b[39m, method=\u001b[33m\"\u001b[39m\u001b[33mconvert_dtypes\u001b[39m\u001b[33m\"\u001b[39m)\n",
      "\u001b[36mFile \u001b[39m\u001b[32m~/DevOh/project/private/project/space/workspace/geopandas/.venv/lib/python3.13/site-packages/pandas/core/internals/managers.py:455\u001b[39m, in \u001b[36mBaseBlockManager.convert_dtypes\u001b[39m\u001b[34m(self, **kwargs)\u001b[39m\n\u001b[32m    452\u001b[39m \u001b[38;5;28;01melse\u001b[39;00m:\n\u001b[32m    453\u001b[39m     copy = \u001b[38;5;28;01mTrue\u001b[39;00m\n\u001b[32m--> \u001b[39m\u001b[32m455\u001b[39m \u001b[38;5;28;01mreturn\u001b[39;00m \u001b[38;5;28;43mself\u001b[39;49m\u001b[43m.\u001b[49m\u001b[43mapply\u001b[49m\u001b[43m(\u001b[49m\n\u001b[32m    456\u001b[39m \u001b[43m    \u001b[49m\u001b[33;43m\"\u001b[39;49m\u001b[33;43mconvert_dtypes\u001b[39;49m\u001b[33;43m\"\u001b[39;49m\u001b[43m,\u001b[49m\u001b[43m \u001b[49m\u001b[43mcopy\u001b[49m\u001b[43m=\u001b[49m\u001b[43mcopy\u001b[49m\u001b[43m,\u001b[49m\u001b[43m \u001b[49m\u001b[43musing_cow\u001b[49m\u001b[43m=\u001b[49m\u001b[43musing_copy_on_write\u001b[49m\u001b[43m(\u001b[49m\u001b[43m)\u001b[49m\u001b[43m,\u001b[49m\u001b[43m \u001b[49m\u001b[43m*\u001b[49m\u001b[43m*\u001b[49m\u001b[43mkwargs\u001b[49m\n\u001b[32m    457\u001b[39m \u001b[43m\u001b[49m\u001b[43m)\u001b[49m\n",
      "\u001b[36mFile \u001b[39m\u001b[32m~/DevOh/project/private/project/space/workspace/geopandas/.venv/lib/python3.13/site-packages/pandas/core/internals/managers.py:363\u001b[39m, in \u001b[36mBaseBlockManager.apply\u001b[39m\u001b[34m(self, f, align_keys, **kwargs)\u001b[39m\n\u001b[32m    361\u001b[39m         applied = b.apply(f, **kwargs)\n\u001b[32m    362\u001b[39m     \u001b[38;5;28;01melse\u001b[39;00m:\n\u001b[32m--> \u001b[39m\u001b[32m363\u001b[39m         applied = \u001b[38;5;28;43mgetattr\u001b[39;49m\u001b[43m(\u001b[49m\u001b[43mb\u001b[49m\u001b[43m,\u001b[49m\u001b[43m \u001b[49m\u001b[43mf\u001b[49m\u001b[43m)\u001b[49m\u001b[43m(\u001b[49m\u001b[43m*\u001b[49m\u001b[43m*\u001b[49m\u001b[43mkwargs\u001b[49m\u001b[43m)\u001b[49m\n\u001b[32m    364\u001b[39m     result_blocks = extend_blocks(applied, result_blocks)\n\u001b[32m    366\u001b[39m out = \u001b[38;5;28mtype\u001b[39m(\u001b[38;5;28mself\u001b[39m).from_blocks(result_blocks, \u001b[38;5;28mself\u001b[39m.axes)\n",
      "\u001b[36mFile \u001b[39m\u001b[32m~/DevOh/project/private/project/space/workspace/geopandas/.venv/lib/python3.13/site-packages/pandas/core/internals/blocks.py:721\u001b[39m, in \u001b[36mBlock.convert_dtypes\u001b[39m\u001b[34m(self, copy, using_cow, infer_objects, convert_string, convert_integer, convert_boolean, convert_floating, dtype_backend)\u001b[39m\n\u001b[32m    717\u001b[39m \u001b[38;5;28;01mfor\u001b[39;00m blk \u001b[38;5;129;01min\u001b[39;00m blks:\n\u001b[32m    718\u001b[39m     \u001b[38;5;66;03m# Determine dtype column by column\u001b[39;00m\n\u001b[32m    719\u001b[39m     sub_blks = [blk] \u001b[38;5;28;01mif\u001b[39;00m blk.ndim == \u001b[32m1\u001b[39m \u001b[38;5;129;01mor\u001b[39;00m \u001b[38;5;28mself\u001b[39m.shape[\u001b[32m0\u001b[39m] == \u001b[32m1\u001b[39m \u001b[38;5;28;01melse\u001b[39;00m blk._split()\n\u001b[32m    720\u001b[39m     dtypes = [\n\u001b[32m--> \u001b[39m\u001b[32m721\u001b[39m         \u001b[43mconvert_dtypes\u001b[49m\u001b[43m(\u001b[49m\n\u001b[32m    722\u001b[39m \u001b[43m            \u001b[49m\u001b[43mb\u001b[49m\u001b[43m.\u001b[49m\u001b[43mvalues\u001b[49m\u001b[43m,\u001b[49m\n\u001b[32m    723\u001b[39m \u001b[43m            \u001b[49m\u001b[43mconvert_string\u001b[49m\u001b[43m,\u001b[49m\n\u001b[32m    724\u001b[39m \u001b[43m            \u001b[49m\u001b[43mconvert_integer\u001b[49m\u001b[43m,\u001b[49m\n\u001b[32m    725\u001b[39m \u001b[43m            \u001b[49m\u001b[43mconvert_boolean\u001b[49m\u001b[43m,\u001b[49m\n\u001b[32m    726\u001b[39m \u001b[43m            \u001b[49m\u001b[43mconvert_floating\u001b[49m\u001b[43m,\u001b[49m\n\u001b[32m    727\u001b[39m \u001b[43m            \u001b[49m\u001b[43minfer_objects\u001b[49m\u001b[43m,\u001b[49m\n\u001b[32m    728\u001b[39m \u001b[43m            \u001b[49m\u001b[43mdtype_backend\u001b[49m\u001b[43m,\u001b[49m\n\u001b[32m    729\u001b[39m \u001b[43m        \u001b[49m\u001b[43m)\u001b[49m\n\u001b[32m    730\u001b[39m         \u001b[38;5;28;01mfor\u001b[39;00m b \u001b[38;5;129;01min\u001b[39;00m sub_blks\n\u001b[32m    731\u001b[39m     ]\n\u001b[32m    732\u001b[39m     \u001b[38;5;28;01mif\u001b[39;00m \u001b[38;5;28mall\u001b[39m(dtype == \u001b[38;5;28mself\u001b[39m.dtype \u001b[38;5;28;01mfor\u001b[39;00m dtype \u001b[38;5;129;01min\u001b[39;00m dtypes):\n\u001b[32m    733\u001b[39m         \u001b[38;5;66;03m# Avoid block splitting if no dtype changes\u001b[39;00m\n\u001b[32m    734\u001b[39m         rbs.append(blk.copy(deep=copy))\n",
      "\u001b[36mFile \u001b[39m\u001b[32m~/DevOh/project/private/project/space/workspace/geopandas/.venv/lib/python3.13/site-packages/pandas/core/dtypes/cast.py:1152\u001b[39m, in \u001b[36mconvert_dtypes\u001b[39m\u001b[34m(input_array, convert_string, convert_integer, convert_boolean, convert_floating, infer_objects, dtype_backend)\u001b[39m\n\u001b[32m   1150\u001b[39m     pa_type = pa.null()\n\u001b[32m   1151\u001b[39m \u001b[38;5;28;01melse\u001b[39;00m:\n\u001b[32m-> \u001b[39m\u001b[32m1152\u001b[39m     pa_type = \u001b[43mto_pyarrow_type\u001b[49m\u001b[43m(\u001b[49m\u001b[43mbase_dtype\u001b[49m\u001b[43m)\u001b[49m\n\u001b[32m   1153\u001b[39m \u001b[38;5;28;01mif\u001b[39;00m pa_type \u001b[38;5;129;01mis\u001b[39;00m \u001b[38;5;129;01mnot\u001b[39;00m \u001b[38;5;28;01mNone\u001b[39;00m:\n\u001b[32m   1154\u001b[39m     inferred_dtype = ArrowDtype(pa_type)\n",
      "\u001b[36mFile \u001b[39m\u001b[32m~/DevOh/project/private/project/space/workspace/geopandas/.venv/lib/python3.13/site-packages/pandas/core/arrays/arrow/array.py:224\u001b[39m, in \u001b[36mto_pyarrow_type\u001b[39m\u001b[34m(dtype)\u001b[39m\n\u001b[32m    218\u001b[39m \u001b[38;5;28;01mdef\u001b[39;00m\u001b[38;5;250m \u001b[39m\u001b[34mto_pyarrow_type\u001b[39m(\n\u001b[32m    219\u001b[39m     dtype: ArrowDtype | pa.DataType | Dtype | \u001b[38;5;28;01mNone\u001b[39;00m,\n\u001b[32m    220\u001b[39m ) -> pa.DataType | \u001b[38;5;28;01mNone\u001b[39;00m:\n\u001b[32m    221\u001b[39m \u001b[38;5;250m    \u001b[39m\u001b[33;03m\"\"\"\u001b[39;00m\n\u001b[32m    222\u001b[39m \u001b[33;03m    Convert dtype to a pyarrow type instance.\u001b[39;00m\n\u001b[32m    223\u001b[39m \u001b[33;03m    \"\"\"\u001b[39;00m\n\u001b[32m--> \u001b[39m\u001b[32m224\u001b[39m     \u001b[38;5;28;01mif\u001b[39;00m \u001b[38;5;28misinstance\u001b[39m(dtype, \u001b[43mArrowDtype\u001b[49m):\n\u001b[32m    225\u001b[39m         \u001b[38;5;28;01mreturn\u001b[39;00m dtype.pyarrow_dtype\n\u001b[32m    226\u001b[39m     \u001b[38;5;28;01melif\u001b[39;00m \u001b[38;5;28misinstance\u001b[39m(dtype, pa.DataType):\n",
      "\u001b[31mNameError\u001b[39m: name 'ArrowDtype' is not defined"
     ]
    }
   ],
   "source": [
    "layer = ScatterplotLayer.from_geopandas(gdf)\n",
    "m = Map(layer, _height=800)\n",
    "with sidecar:\n",
    "    display(m)"
   ]
  },
  {
   "cell_type": "code",
   "execution_count": null,
   "id": "8a014ae4",
   "metadata": {},
   "outputs": [],
   "source": []
  }
 ],
 "metadata": {
  "kernelspec": {
   "display_name": ".venv",
   "language": "python",
   "name": "python3"
  },
  "language_info": {
   "codemirror_mode": {
    "name": "ipython",
    "version": 3
   },
   "file_extension": ".py",
   "mimetype": "text/x-python",
   "name": "python",
   "nbconvert_exporter": "python",
   "pygments_lexer": "ipython3",
   "version": "3.13.5"
  }
 },
 "nbformat": 4,
 "nbformat_minor": 5
}
